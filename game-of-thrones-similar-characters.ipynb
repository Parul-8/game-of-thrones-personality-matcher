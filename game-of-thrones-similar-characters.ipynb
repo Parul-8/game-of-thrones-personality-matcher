{
 "cells": [
  {
   "cell_type": "markdown",
   "id": "bda4785a",
   "metadata": {},
   "source": [
    "# Game of thrones similar characters using dimensionality reduction technique"
   ]
  },
  {
   "cell_type": "code",
   "execution_count": 1,
   "id": "3e6e971c",
   "metadata": {},
   "outputs": [],
   "source": [
    "#PCA works on linear data but not on non-linear data\n",
    "#The assumption made is that the personality of person is what they speak."
   ]
  },
  {
   "cell_type": "code",
   "execution_count": 2,
   "id": "afe8d144",
   "metadata": {},
   "outputs": [],
   "source": [
    "import pandas as pd \n",
    "import numpy as np"
   ]
  },
  {
   "cell_type": "code",
   "execution_count": 3,
   "id": "105df567",
   "metadata": {},
   "outputs": [],
   "source": [
    "df = pd.read_json('script-bag-of-words.json')"
   ]
  },
  {
   "cell_type": "code",
   "execution_count": 4,
   "id": "63988281",
   "metadata": {},
   "outputs": [
    {
     "data": {
      "text/html": [
       "<div>\n",
       "<style scoped>\n",
       "    .dataframe tbody tr th:only-of-type {\n",
       "        vertical-align: middle;\n",
       "    }\n",
       "\n",
       "    .dataframe tbody tr th {\n",
       "        vertical-align: top;\n",
       "    }\n",
       "\n",
       "    .dataframe thead th {\n",
       "        text-align: right;\n",
       "    }\n",
       "</style>\n",
       "<table border=\"1\" class=\"dataframe\">\n",
       "  <thead>\n",
       "    <tr style=\"text-align: right;\">\n",
       "      <th></th>\n",
       "      <th>episodeAlt</th>\n",
       "      <th>seasonNum</th>\n",
       "      <th>episodeNum</th>\n",
       "      <th>episodeTitle</th>\n",
       "      <th>text</th>\n",
       "    </tr>\n",
       "  </thead>\n",
       "  <tbody>\n",
       "    <tr>\n",
       "      <th>0</th>\n",
       "      <td>S1E1</td>\n",
       "      <td>1</td>\n",
       "      <td>1</td>\n",
       "      <td>Winter Is Coming</td>\n",
       "      <td>[{'text': 'Easy, boy.', 'name': 'Will'}, {'tex...</td>\n",
       "    </tr>\n",
       "    <tr>\n",
       "      <th>1</th>\n",
       "      <td>S1E2</td>\n",
       "      <td>1</td>\n",
       "      <td>2</td>\n",
       "      <td>The Kingsroad</td>\n",
       "      <td>[{'text': 'And You child... drink, eat. need t...</td>\n",
       "    </tr>\n",
       "    <tr>\n",
       "      <th>2</th>\n",
       "      <td>S1E3</td>\n",
       "      <td>1</td>\n",
       "      <td>3</td>\n",
       "      <td>Lord Snow</td>\n",
       "      <td>[{'text': 'Council. Grand Lord Maester Pycelle...</td>\n",
       "    </tr>\n",
       "    <tr>\n",
       "      <th>3</th>\n",
       "      <td>S1E4</td>\n",
       "      <td>1</td>\n",
       "      <td>4</td>\n",
       "      <td>Cripples, Bastards, and Broken Things</td>\n",
       "      <td>[{'text': 'Lord's The again. been dreaming lit...</td>\n",
       "    </tr>\n",
       "    <tr>\n",
       "      <th>4</th>\n",
       "      <td>S1E5</td>\n",
       "      <td>1</td>\n",
       "      <td>5</td>\n",
       "      <td>The Wolf and the Lion</td>\n",
       "      <td>[{'text': 'Does Hugh Ser any capital? family h...</td>\n",
       "    </tr>\n",
       "    <tr>\n",
       "      <th>...</th>\n",
       "      <td>...</td>\n",
       "      <td>...</td>\n",
       "      <td>...</td>\n",
       "      <td>...</td>\n",
       "      <td>...</td>\n",
       "    </tr>\n",
       "    <tr>\n",
       "      <th>68</th>\n",
       "      <td>S8E2</td>\n",
       "      <td>8</td>\n",
       "      <td>2</td>\n",
       "      <td>A Knight of the Seven Kingdoms</td>\n",
       "      <td>[{'name': 'Daenerys Targaryen', 'text': 'About...</td>\n",
       "    </tr>\n",
       "    <tr>\n",
       "      <th>69</th>\n",
       "      <td>S8E3</td>\n",
       "      <td>8</td>\n",
       "      <td>3</td>\n",
       "      <td>The Long Night</td>\n",
       "      <td>[{'name': 'Northman #1', 'text': 'Oi!'}, {'nam...</td>\n",
       "    </tr>\n",
       "    <tr>\n",
       "      <th>70</th>\n",
       "      <td>S8E4</td>\n",
       "      <td>8</td>\n",
       "      <td>4</td>\n",
       "      <td>The Last of the Starks</td>\n",
       "      <td>[{'name': 'Jon Snow', 'text': 'And Everyone It...</td>\n",
       "    </tr>\n",
       "    <tr>\n",
       "      <th>71</th>\n",
       "      <td>S8E5</td>\n",
       "      <td>8</td>\n",
       "      <td>5</td>\n",
       "      <td>The Bells</td>\n",
       "      <td>[{'name': 'Lord Varys', 'text': 'And? Come Not...</td>\n",
       "    </tr>\n",
       "    <tr>\n",
       "      <th>72</th>\n",
       "      <td>S8E6</td>\n",
       "      <td>8</td>\n",
       "      <td>6</td>\n",
       "      <td>The Iron Throne</td>\n",
       "      <td>[{'name': 'Tyrion Lannister', 'text': 'I'll fi...</td>\n",
       "    </tr>\n",
       "  </tbody>\n",
       "</table>\n",
       "<p>73 rows × 5 columns</p>\n",
       "</div>"
      ],
      "text/plain": [
       "   episodeAlt  seasonNum  episodeNum                           episodeTitle  \\\n",
       "0        S1E1          1           1                       Winter Is Coming   \n",
       "1        S1E2          1           2                          The Kingsroad   \n",
       "2        S1E3          1           3                              Lord Snow   \n",
       "3        S1E4          1           4  Cripples, Bastards, and Broken Things   \n",
       "4        S1E5          1           5                  The Wolf and the Lion   \n",
       "..        ...        ...         ...                                    ...   \n",
       "68       S8E2          8           2         A Knight of the Seven Kingdoms   \n",
       "69       S8E3          8           3                         The Long Night   \n",
       "70       S8E4          8           4                 The Last of the Starks   \n",
       "71       S8E5          8           5                              The Bells   \n",
       "72       S8E6          8           6                        The Iron Throne   \n",
       "\n",
       "                                                 text  \n",
       "0   [{'text': 'Easy, boy.', 'name': 'Will'}, {'tex...  \n",
       "1   [{'text': 'And You child... drink, eat. need t...  \n",
       "2   [{'text': 'Council. Grand Lord Maester Pycelle...  \n",
       "3   [{'text': 'Lord's The again. been dreaming lit...  \n",
       "4   [{'text': 'Does Hugh Ser any capital? family h...  \n",
       "..                                                ...  \n",
       "68  [{'name': 'Daenerys Targaryen', 'text': 'About...  \n",
       "69  [{'name': 'Northman #1', 'text': 'Oi!'}, {'nam...  \n",
       "70  [{'name': 'Jon Snow', 'text': 'And Everyone It...  \n",
       "71  [{'name': 'Lord Varys', 'text': 'And? Come Not...  \n",
       "72  [{'name': 'Tyrion Lannister', 'text': 'I'll fi...  \n",
       "\n",
       "[73 rows x 5 columns]"
      ]
     },
     "execution_count": 4,
     "metadata": {},
     "output_type": "execute_result"
    }
   ],
   "source": [
    "df"
   ]
  },
  {
   "cell_type": "code",
   "execution_count": 8,
   "id": "30e5a3d9",
   "metadata": {},
   "outputs": [
    {
     "data": {
      "text/plain": [
       "[{'name': 'Tyrion Lannister', 'text': \"I'll find later. you\"},\n",
       " {'name': 'Jon Snow', 'text': \"It's Let me men not safe. send some with you.\"},\n",
       " {'name': 'Tyrion Lannister', 'text': \"I'm alone. going\"},\n",
       " {'name': 'Grey Worm',\n",
       "  'text': 'Daenerys I In Queen, Targaryen, die. name of one sentence the the to true you'},\n",
       " {'name': 'Jon Snow',\n",
       "  'text': \"Grey It's These Worm! are men over. prisoners.\"},\n",
       " {'name': 'Grey Worm',\n",
       "  'text': \"It Queen's are defeated. enemies is not over the until\"},\n",
       " {'name': 'Davos Seaworth',\n",
       "  'text': \"How They're be? defeated do knees. more much on their them to want you\"},\n",
       " {'name': 'Grey Worm', 'text': 'They are breathing.'},\n",
       " {'name': 'Davos Seaworth', 'text': 'Look We around friend. won. you,'},\n",
       " {'name': 'Grey Worm', 'text': \"I commands, my not obey queen's yours.\"},\n",
       " {'name': 'Jon Snow', 'text': \"And Queen's are commands? the what\"},\n",
       " {'name': 'Grey Worm',\n",
       "  'text': '\"Kill Cersei Lannister.\" These They all are chose fight follow for free her. men. to who'},\n",
       " {'name': 'Davos Seaworth',\n",
       "  'text': 'Easy! Easy, Easy. Jon. Queen. We men. should speak the with'},\n",
       " {'name': 'Dothraki Bloodrider #1', 'text': 'Hyah!'},\n",
       " {'lang': 'Dothraki',\n",
       "  'name': 'Daenerys Targaryen',\n",
       "  'translation': 'Blood Kingdoms! Seven You You You You all blood. down enemies gave houses. in iron kept killed me me. my my of promises stone suits. the their their to tore your',\n",
       "  'text': ''},\n",
       " {'lang': 'High Valyrian',\n",
       "  'name': 'Daenerys Targaryen',\n",
       "  'translation': \"Grey I Master Plaza Pride. Queen's War. Worm. You You all are beside bravest commander forces, have loyal me men, most my name of of of of of since soldiers. the the the the walked you\",\n",
       "  'text': ''},\n",
       " {'lang': 'High Valyrian',\n",
       "  'name': 'Daenerys Targaryen',\n",
       "  'translation': \"All But Dorne, From Isles Jade King's Landing Lannisport Now... Qarth, Sea! Summer Unsullied. We Will Winterfell Women, You a all and and are arms as beneath break children down freed from from from from grip have have have is lay liberated liberators! long me? men mothers' not not of of of of our over. people people raised slaves. spears suffered the the the the the the the the the to to to too torn tyrant! until war we were wheel wheel. will with world! you you you your\",\n",
       "  'text': ''},\n",
       " {'name': 'Daenerys Targaryen',\n",
       "  'text': 'You You brother. committed freed treason. your'},\n",
       " {'name': 'Tyrion Lannister',\n",
       "  'text': 'And I a brother. city. freed my slaughtered you'},\n",
       " {'lang': 'High Valyrian',\n",
       "  'name': 'Daenerys Targaryen',\n",
       "  'translation': 'Take him.',\n",
       "  'text': ''},\n",
       " {'name': 'Jon Snow', 'text': 'Hey, What are doing happened? here? what you'},\n",
       " {'name': 'Arya Stark',\n",
       "  'text': 'Cersei. I Your came first. got kill queen there to'},\n",
       " {'name': 'Jon Snow', 'text': \"She's everyone's now. queen\"},\n",
       " {'name': 'Arya Stark', 'text': 'Sansa. Try telling'},\n",
       " {'name': 'Jon Snow',\n",
       "  'text': \"I'll Wait city come find for gates. me outside the you.\"},\n",
       " {'name': 'Arya Stark',\n",
       "  'text': \"And I I Jon. She Who You'll a a always are. are. be her. killer know knows one. really see threat to when who you you\"},\n",
       " {'name': 'Tyrion Lannister', 'text': 'Did any bring wine? you'},\n",
       " {'name': 'Jon Snow', 'text': 'No.'},\n",
       " {'name': 'Tyrion Lannister',\n",
       "  'text': '\"See, Ah... I I I I\\'m I\\'m It Now Our So Varys\\'s Well... a after alive and ashes ashes: betrayed burn. can closest coming crude death? doesn\\'t for for friend going. him is just justice. keep kind knows life long. man me. me. my my occurred of only prisoners queen see suppose talking tell thank the there there\\'s to to to told watched where who you you.\"'},\n",
       " {'name': 'Jon Snow', 'text': \"I've Not seen. that\"},\n",
       " {'name': 'Tyrion Lannister',\n",
       "  'text': 'I I I I I Oblivion a be best betrayed could crossbow. father for. hope is lover. my my my own queen. shot should strangled thankful. the with'},\n",
       " {'name': 'Jon Snow', 'text': \"You didn't.\"},\n",
       " {'name': 'Tyrion Lannister',\n",
       "  'text': \"And I I I'd I've I've King's Landing The again, chose did did. do fate. it my not. now of people seen seen. that what\"},\n",
       " {'name': 'Jon Snow',\n",
       "  'text': \"But I I can't happened. is justify now. over the try. war what won't\"},\n",
       " {'name': 'Tyrion Lannister',\n",
       "  'text': \"And Bay. Is King's Landing. She She Slaver's When all. and are did done fighting? free... go heard her her it? liberated liberated liberating like of of of on people people people rules she she she'll soldiers, someone sound talking the the the the them to until who's world you\"},\n",
       " {'name': 'Jon Snow',\n",
       "  'text': \"And Until been by counseling her her. side, today. you've\"},\n",
       " {'name': 'Tyrion Lannister',\n",
       "  'text': \"I I It Our Until Varys and blood. could fire guide her. is nature queen's right. think to today. vanity was was was wrong.\"},\n",
       " {'name': 'Jon Snow',\n",
       "  'text': \"I'd Lannister. She's Then Tywin You and and are are? be blood, bodies born father, fire her house more no not on our our stamped than that's think too. we we're when who words you're\"},\n",
       " {'name': 'Tyrion Lannister',\n",
       "  'text': \"My My Pile a all all an an as as be beautiful bodies day. ever evil evil father half in killed, man. many of our people queen single sister slaughtered still the the there they up was was woman. won't\"},\n",
       " {'name': 'Jon Snow', 'text': 'Cersei choice. her left no'},\n",
       " {'name': 'Tyrion Lannister',\n",
       "  'text': 'The battle fell, gates moment over. the the was'},\n",
       " {'name': 'Jon Snow',\n",
       "  'text': 'She She beheaded. dragon friend her her of out saw saw shot sky. the'},\n",
       " {'name': 'Tyrion Lannister', 'text': 'And a burned city down for it. she'},\n",
       " {'name': 'Jon Snow',\n",
       "  'text': \"Aye, battlefield. easy far from it's judge standing the to when you're\"},\n",
       " {'name': 'Tyrion Lannister', 'text': 'Would done have it? you'},\n",
       " {'name': 'Jon Snow', 'text': 'What?'},\n",
       " {'name': 'Tyrion Lannister',\n",
       "  'text': \"Would You've You've a back. been burned city down? dragon's had have on power. that the there, up you\"},\n",
       " {'name': 'Jon Snow', 'text': \"I don't know.\"},\n",
       " {'name': 'Tyrion Lannister',\n",
       "  'text': \"Yes, You because betray but do. don't her... know. say to want won't you you you\"},\n",
       " {'name': 'Jon Snow', 'text': \"I'd What's do? it matter what\"},\n",
       " {'name': 'Tyrion Lannister',\n",
       "  'text': \"After And Astapor, Dothraki Everywhere I'm If It Meereenese She The They They When When a alive? all, and and and and anything. argue? believed believed believes better between build burned but cheer complained. could crucified destiny die done everyone. evil evil evil for for goes, good grows have her her her. hundreds if is is it, it. khals kill matters men men. men. more more more murdered no nobles, of of one paradise? powerful right. she she she she she she slavers slavers stood sure sure than that that... the the they to to truly we were were who whoever world worse would wouldn't you you you you\"},\n",
       " {'name': 'Tyrion Lannister',\n",
       "  'text': 'But I I I Look Love Not We all all as as at believed brother. heart. her her, her. in is know know love love more my my powerful reason. successfully than that. too. with you you.'},\n",
       " {'name': 'Jon Snow', 'text': '\"Love death duty.\" is of the'},\n",
       " {'name': 'Tyrion Lannister', 'text': 'You came just that? up with'},\n",
       " {'name': 'Jon Snow', 'text': 'Aemon Maester a ago. it long said time'},\n",
       " {'name': 'Tyrion Lannister',\n",
       "  'text': \"And Do I'm I'm Iron It's It's No Sometimes Throne? Who Who You a also always are asking. cost, dangerous death do duty execute? greatest guards heir is is is last love. man matter men. more now? of of people people. protect realms right right rightful she'll shield terrible than that the the the the the the the the the the the thing thing. thing. think threat to to to to tried tried you you've you've\"},\n",
       " {'name': 'Jon Snow',\n",
       "  'text': \"I'm Queen. She That's came decision. her is it sorry the this. to\"},\n",
       " {'name': 'Tyrion Lannister',\n",
       "  'text': 'And Do bending knee? see sisters? the them you your'},\n",
       " {'name': 'Jon Snow', 'text': 'My be loyal sisters the throne. to will'},\n",
       " {'name': 'Tyrion Lannister',\n",
       "  'text': \"Because Dany Sansa Why about be do doesn't me queen. she the think to told truth want you you?\"},\n",
       " {'name': 'Jon Snow', 'text': \"She choose. doesn't get to\"},\n",
       " {'name': 'Tyrion Lannister',\n",
       "  'text': 'And But No. choose do. have now. to you you'},\n",
       " {'name': 'Daenerys Targaryen',\n",
       "  'text': \"1,000 1,000 20? Aegon's Aegon's I I So What When a a a brother can't climb. could count do enemies, enemies. fallen fallen feet. from girl girl, high imagined in it like little look made many me mind mountain my of of of only see soles swords swords swords the the to to told too was was who with you\"},\n",
       " {'name': 'Jon Snow',\n",
       "  'text': 'I Lannister They acting executing in on orders. prisoners said saw street. the them they were your'},\n",
       " {'name': 'Daenerys Targaryen', 'text': 'It necessary. was'},\n",
       " {'name': 'Jon Snow',\n",
       "  'text': 'Children, Have Have Necessary? been burned! children, down little seen? there? you you'},\n",
       " {'name': 'Daenerys Targaryen',\n",
       "  'text': 'Cersei. I She She a against as cripple innocence it make me. me. peace their thought to tried used weapon with would'},\n",
       " {'name': 'Jon Snow', 'text': 'And Tyrion?'},\n",
       " {'name': 'Daenerys Targaryen',\n",
       "  'text': \"He How back behind broke conspired done enemies. even have heart? it my my people same the to treated when who've with you you, your\"},\n",
       " {'name': 'Jon Snow', 'text': 'Forgive him.'},\n",
       " {'name': 'Daenerys Targaryen', 'text': \"I can't.\"},\n",
       " {'name': 'Jon Snow',\n",
       "  'text': 'Dany. Make Please, You You a all can can. forgive made make mistake. of see them them them, they understand.'},\n",
       " {'name': 'Daenerys Targaryen',\n",
       "  'text': \"The We be behind built by can't have. hide loyal men mercies. need small the to we we won't world world\"},\n",
       " {'name': 'Jon Snow',\n",
       "  'text': 'It The a be. has is mercy. need of to we world world'},\n",
       " {'name': 'Daenerys Targaryen',\n",
       "  'text': \"A And It's be. been before. easy good it never not see something that's to will world.\"},\n",
       " {'name': 'Jon Snow',\n",
       "  'text': \"How How be do do good? it'll know know? you you\"},\n",
       " {'name': 'Daenerys Targaryen',\n",
       "  'text': 'And Because I do good. is know so what you.'},\n",
       " {'name': 'Jon Snow', 'text': \"I don't.\"},\n",
       " {'name': 'Daenerys Targaryen',\n",
       "  'text': \"You You You've always do. do. known.\"},\n",
       " {'name': 'Jon Snow',\n",
       "  'text': \"All What about else? everyone good. know other people the they think what's who\"},\n",
       " {'name': 'Daenerys Targaryen',\n",
       "  'text': \"20. Be Build I It They This We We a a a and bastard's been beginning, boy break choose. couldn't count do don't from get girl has is it little little me. me. name new our reason. since the the the to to together. together. was were wheel who with with with world you\"},\n",
       " {'name': 'Jon Snow', 'text': 'Now, You always. and are my queen.'},\n",
       " {'name': 'Sansa Stark', 'text': \"Jon? Where's\"},\n",
       " {'name': 'Grey Worm', 'text': 'He is our prisoner.'},\n",
       " {'name': 'Sansa Stark',\n",
       "  'text': 'Lord So They Tyrion. be both brought gathering. is this to to were'},\n",
       " {'name': 'Grey Worm',\n",
       "  'text': 'This We city decide do is now. our our prisoners. we what will with'},\n",
       " {'name': 'Sansa Stark',\n",
       "  'text': \"If Jon Northmen Snow city, explain find harming in interest. is look not of of outside the thousands to walls who why will you you you'll your your\"},\n",
       " {'name': 'Grey Worm',\n",
       "  'text': 'And Unsullied believe find is. it of that thousands who will you'},\n",
       " {'name': 'Yara Greyjoy',\n",
       "  'text': 'Daenerys I Ironborn Some Targaryen. The are be follow forgive. may not. of quick swore to to you'},\n",
       " {'name': 'Sansa Stark', 'text': 'You a follow swore to tyrant.'},\n",
       " {'name': 'Yara Greyjoy',\n",
       "  'text': 'Cersei Jon Let She Snow Unsullied a a and because deserves. freed from give gone he heart. her her, him in is knife of put the tyrant. us what'},\n",
       " {'name': 'Arya Stark',\n",
       "  'text': \"I'll Say about and another brother cut killing my throat. word your\"},\n",
       " {'name': 'Davos Seaworth',\n",
       "  'text': \"Am Friends, Good House I If Make Nudho. Reach. Start The There This Thousands Torgo Unsullied We We've We've You a a and are as bannermen. been better but can country cutting dead. debt each ends. enough enough. find for gone. had how in is it it it it know land land. let live long lost men, need never of of other's owes own own. people please. properly? repay, saying that that the the the the them. there thousands throats to to try. us used war war. way. we weren't with with would've you you you, your your your your\"},\n",
       " {'name': 'Grey Worm',\n",
       "  'text': 'Jon Snow We We cannot do free. go justice. need need not payment.'},\n",
       " {'name': 'Tyrion Lannister', 'text': \"It's decide. for not to you\"},\n",
       " {'name': 'Grey Worm',\n",
       "  'text': 'Everyone You are enough from has heard here not speak! to words you.'},\n",
       " {'name': 'Tyrion Lannister',\n",
       "  'text': \"And But His Jon Or You're any better committed crime decide. decide. fate for for for here. his is it's it. king no not one's our our queen. right. to to you\"},\n",
       " {'name': 'Yohn Royce', 'text': \"We a don't have king or queen.\"},\n",
       " {'name': 'Tyrion Lannister',\n",
       "  'text': \"Choose Westeros. You're in most one. people powerful the\"},\n",
       " {'name': 'Grey Worm', 'text': 'Make choice, then. your'},\n",
       " {'name': 'Edmure Tully',\n",
       "  'text': 'A And I I I My What and and annals as before country. decide experience has history. important in in is ladies... led like lives. lords lords moment most my of of of of one our reverberate senior skill small some stand statecraft suppose the the the the think this through to to today two underst... veteran wars. we will you'},\n",
       " {'name': 'Sansa Stark', 'text': 'Please Uncle? sit.'},\n",
       " {'name': 'Yohn Royce', 'text': 'Well, choose have someone. to we'},\n",
       " {'name': 'Samwell Tarly',\n",
       "  'text': \"Houses, Maybe Um, Um... We Why about ahem... all and be best but choose, decision everyone everyone. for great just just ladies. left lords over represent rule should the the they to... us? we well, what's whomever won't\"},\n",
       " {'name': 'Edmure Tully',\n",
       "  'text': 'Maybe a as dogs give should the vote we well.'},\n",
       " {'name': 'Yohn Royce', 'text': \"I'll ask horse. my\"},\n",
       " {'name': 'Edmure Tully', 'text': 'I crown. suppose the want you'},\n",
       " {'name': 'Tyrion Lannister',\n",
       "  'text': \"Can't Daenerys, Half Imp? Me? The a betraying choice. for for half hate hate her. me me of other people serving the the think worse\"},\n",
       " {'name': 'Davos Seaworth', 'text': 'Who, then?'},\n",
       " {'name': 'Tyrion Lannister',\n",
       "  'text': \"About About And Armies? Bran Broken? Flags? Gold? He He He I've No Nothing Our Raven. Stories. The The There's Three-Eyed Wall, What Who a a a a again, all and and became better better beyond births, bloody boy boy, but can can crippled crossed defeat defeats, do enemy famines. fell few fly. from future? good had has he he'd high history. in into is it. it. keeper knew lead learned lived. made. massacres, memory, mistakes mm, more never nothing nothing of our our our our our past past. people? powerful so stop stories. story. story... than than the the the the the the the these think to to to tower triumphs, unites us walk wars, we've weddings, weeks. who who world\"},\n",
       " {'name': 'Sansa Stark',\n",
       "  'text': \"Bran and can't children. father has he in interest no ruling\"},\n",
       " {'name': 'Tyrion Lannister',\n",
       "  'text': \"But From Good. His I I I Kingdoms Realm. Seven Sons That They Westeros... Will abilities about and and as ask be be be best born. break. by can care choose chosen crown? cruel day day? don't don't from if is it. kings know know know. ladies last lead lords never not now now, of of of on on, our power. queen rulers serve spot stupid, the the the the the the this this to to to torment until us. want wanted we wear well wheel will will will will you you you you you you you... your your\"},\n",
       " {'name': 'Bran Stark', 'text': 'I Why all came do think this way? you'},\n",
       " {'name': 'Tyrion Lannister',\n",
       "  'text': 'Brandon House I Stark... To aye. of say'},\n",
       " {'name': 'Samwell Tarly', 'text': 'Aye.'},\n",
       " {'name': 'Edmure Tully', 'text': 'Aye.'},\n",
       " {'name': 'Lord #1', 'text': 'Aye.'},\n",
       " {'name': 'Lord #2', 'text': 'Aye.'},\n",
       " {'name': 'Yohn Royce', 'text': 'Aye.'},\n",
       " {'name': 'Robin Arryn', 'text': 'Aye.'},\n",
       " {'name': 'Dornish Lord', 'text': 'Aye.'},\n",
       " {'name': 'Yara Greyjoy', 'text': 'Aye.'},\n",
       " {'name': 'Lord #3', 'text': 'Aye.'},\n",
       " {'name': 'Lord #4', 'text': 'Aye.'},\n",
       " {'name': 'Gendry', 'text': 'Aye.'},\n",
       " {'name': 'Davos Seaworth', 'text': \"I I'm a aye. but get not sure vote,\"},\n",
       " {'name': 'Brienne of Tarth', 'text': 'Aye.'},\n",
       " {'name': 'Sansa Stark',\n",
       "  'text': \"And But Great I I North Northmen The War Westeros. You'll a again. all always an and as be brother. defending ever fell for fought good hard have in independent it king. kingdom, kneel little love much of of of of remain seen survived tens the those thousands thousands to too too was who will will. years. you,\"},\n",
       " {'name': 'Tyrion Lannister',\n",
       "  'text': 'All Andals Bran Broken, First First His King Kingdoms Lord Men, Name, Protector Realm. Six and and hail of of of of the the the the the'},\n",
       " {'name': 'Samwell Tarly', 'text': 'All Bran Broken! hail the'},\n",
       " {'name': 'Edmure Tully', 'text': 'All Bran Broken! hail the'},\n",
       " {'name': 'Lord #1', 'text': 'All Bran Broken! hail the'},\n",
       " {'name': 'Lord #2', 'text': 'All Bran Broken! hail the'},\n",
       " {'name': 'Yohn Royce', 'text': 'All Bran Broken! hail the'},\n",
       " {'name': 'Robin Arryn', 'text': 'All Bran Broken! hail the'},\n",
       " {'name': 'Dornish Lord', 'text': 'All Bran Broken! hail the'},\n",
       " {'name': 'Yara Greyjoy', 'text': 'All Bran Broken! hail the'},\n",
       " {'name': 'Lord #3', 'text': 'All Bran Broken! hail the'},\n",
       " {'name': 'Lord #4', 'text': 'All Bran Broken! hail the'},\n",
       " {'name': 'Gendry', 'text': 'All Bran Broken! hail the'},\n",
       " {'name': 'Davos Seaworth', 'text': 'All Bran Broken! hail the'},\n",
       " {'name': 'Brienne of Tarth', 'text': 'All Bran Broken! hail the'},\n",
       " {'name': 'Bran Stark', 'text': 'Hand. Lord Tyrion... be my will you'},\n",
       " {'name': 'Tyrion Lannister', 'text': \"Grace, I N... No, Your don't it. want\"},\n",
       " {'name': 'Bran Stark', 'text': \"And I be don't king. to want\"},\n",
       " {'name': 'Tyrion Lannister',\n",
       "  'text': \"Choose Choose Davos. I I I I I I I Ser anyone but but deserve didn't. don't else. it. knew right, thought thought was was wasn't. what wise,\"},\n",
       " {'name': 'Bran Stark', 'text': 'I choose you.'},\n",
       " {'name': 'Grey Worm', 'text': 'You cannot.'},\n",
       " {'name': 'Bran Stark', 'text': \"I I'm Yes, can. king.\"},\n",
       " {'name': 'Grey Worm', 'text': 'He This a criminal. deserves is justice. man'},\n",
       " {'name': 'Bran Stark',\n",
       "  'text': \"He He's He's fixing going got his it. just life made many mistakes. of rest spend terrible the them. to\"},\n",
       " {'name': 'Grey Worm', 'text': 'It enough. is not'},\n",
       " {'name': 'Tyrion Lannister',\n",
       "  'text': \"Giving Letting Night's So Unsullied Watch. a a chosen free has king new our send start start the the to to to walk war. war. would would you you you\"},\n",
       " {'name': 'Jon Snow', 'text': \"Night's There's Watch? a still\"},\n",
       " {'name': 'Tyrion Lannister',\n",
       "  'text': \"Arya Grey I No Sansa The The Unsullied Which Worm You a a a accepted always and and bastards broken but but children. compromise, course, father for freed, good happy. has head hold home is it's justice king lands, life make means men. need needs new no no no of of one our peace. sentence. shall suppose. take the they to understand very wanted wanted wife, will world you your\"},\n",
       " {'name': 'Jon Snow', 'text': 'I Was What did? it right?'},\n",
       " {'name': 'Tyrion Lannister', 'text': 'What did. we'},\n",
       " {'name': 'Jon Snow', 'text': \"It doesn't feel right.\"},\n",
       " {'name': 'Tyrion Lannister', 'text': '10 Ask again in me years.'},\n",
       " {'name': 'Jon Snow',\n",
       "  'text': \"I again. don't each ever expect other see we'll\"},\n",
       " {'name': 'Tyrion Lannister',\n",
       "  'text': \"A Hand I King anyone as be edge few make of of off piss so sure. the the the to want world. would wouldn't years\"},\n",
       " {'lang': 'Astapori Valyrian',\n",
       "  'name': 'Unsullied #1',\n",
       "  'translation': 'All boarded. have men the',\n",
       "  'text': ''},\n",
       " {'lang': 'Astapori Valyrian',\n",
       "  'name': 'Grey Worm',\n",
       "  'translation': 'Good. Isle Naath. We for of sail the',\n",
       "  'text': ''},\n",
       " {'name': 'Sansa Stark',\n",
       "  'text': 'Can I another been forgive had me? there way. wish you'},\n",
       " {'name': 'Jon Snow', 'text': 'North The free, is thanks to you.'},\n",
       " {'name': 'Sansa Stark', 'text': 'But king. lost their they'},\n",
       " {'name': 'Jon Snow',\n",
       "  'text': \"Ned She's Stark's ask best could daughter for for. speak the them. they will\"},\n",
       " {'name': 'Jon Snow',\n",
       "  'text': 'Black. Castle You at can come know, me, see you'},\n",
       " {'name': 'Arya Stark', 'text': \"I can't.\"},\n",
       " {'name': 'Jon Snow',\n",
       "  'text': \"You allowed? anyone aren't dare tell think will women you\"},\n",
       " {'name': 'Arya Stark', 'text': \"I'm back going north. not\"},\n",
       " {'name': 'Sansa Stark', 'text': 'Where are going? you'},\n",
       " {'name': 'Arya Stark', 'text': \"Westeros? What's of west\"},\n",
       " {'name': 'Jon Snow', 'text': \"I don't know.\"},\n",
       " {'name': 'Arya Stark',\n",
       "  'text': \"I'm It's No That's all going. knows. maps one stop. the where where\"},\n",
       " {'name': 'Jon Snow', 'text': 'Needle? You have your'},\n",
       " {'name': 'Arya Stark', 'text': 'Right here.'},\n",
       " {'name': 'Jon Snow',\n",
       "  'text': \"Grace. I I'm Your me. needed sorry there wasn't when you\"},\n",
       " {'name': 'Bran Stark',\n",
       "  'text': 'You be. exactly supposed to were were where you'},\n",
       " {'name': 'Tyrion Lannister', 'text': \"That's Uh... What's not... this?\"},\n",
       " {'name': 'Samwell Tarly',\n",
       "  'text': '\"A Archmaester Ebrose\\'s Fire\". I Ice King Robert. Song and death following helped him history of of of the the the title. wars with'},\n",
       " {'name': 'Tyrion Lannister',\n",
       "  'text': 'I I come criticism. for heavy in some suppose'},\n",
       " {'name': 'Samwell Tarly', 'text': \"I Oh, say that. wouldn't\"},\n",
       " {'name': 'Tyrion Lannister',\n",
       "  'text': \"He's Never Oh, guessed. he's kind kind? me. not to would've\"},\n",
       " {'name': 'Samwell Tarly', 'text': 'He...'},\n",
       " {'name': 'Tyrion Lannister', 'text': 'He What about does he me? say what?'},\n",
       " {'name': 'Samwell Tarly', 'text': \"I ahem. believe don't mentioned, you're\"},\n",
       " {'name': 'Tyrion Lannister', 'text': 'Grace. Your'},\n",
       " {'name': 'Samwell Tarly', 'text': 'Grace. Your'},\n",
       " {'name': 'Bronn', 'text': 'Grace. Your'},\n",
       " {'name': 'Davos Seaworth', 'text': 'Grace. Your'},\n",
       " {'name': 'Bran Stark',\n",
       "  'text': 'And And Laws. Master Master Master War. We Whisperers. a a a appear be missing of of of to'},\n",
       " {'name': 'Tyrion Lannister',\n",
       "  'text': 'Grace. Suitable Yes, Your an audience be brought coming for in prospects the to weeks. will you'},\n",
       " {'name': 'Bran Stark', 'text': 'And Any Drogon? word?'},\n",
       " {'name': 'Samwell Tarly',\n",
       "  'text': 'He east, flying last spotted toward... was'},\n",
       " {'name': 'Bronn', 'text': 'The away, better. farther the'},\n",
       " {'name': 'Bran Stark',\n",
       "  'text': 'Do I Perhaps can carry find him. on rest. the with'},\n",
       " {'name': 'Tyrion Lannister', 'text': 'As Grace. Your wish, you'},\n",
       " {'name': 'Brienne of Tarth', 'text': 'Podrick. Ser'},\n",
       " {'name': 'Tyrion Lannister',\n",
       "  'text': 'Bran Broken, King Kingdoms Long Protector Realm. Six We and at he may of of pleasure, reign. ruler serve the the the your'},\n",
       " {'name': 'Samwell Tarly', 'text': 'Long he may reign.'},\n",
       " {'name': 'Davos Seaworth', 'text': 'Long he may reign.'},\n",
       " {'name': 'Brienne of Tarth', 'text': 'Long he may reign.'},\n",
       " {'name': 'Bronn', 'text': 'Long he may reign.'},\n",
       " {'name': 'Tyrion Lannister', 'text': 'That improve. will'},\n",
       " {'name': 'Bran Stark', 'text': \"I'm it sure will.\"},\n",
       " {'name': 'Tyrion Lannister',\n",
       "  'text': \"Blackwater, Bronn Coin, Crown's Highgarden, Lord Lord Master Paramount Reach Ser and been debt has of of of of paid? say the the the to would you you\"},\n",
       " {'name': 'Bronn', 'text': 'Hand. In Lord full, my'},\n",
       " {'name': 'Tyrion Lannister',\n",
       "  'text': 'Can Good. Time We a assistance expect feed. have hungry in incurring new one. people regard? some start this to to we'},\n",
       " {'name': 'Bronn', 'text': 'Indeed can. we'},\n",
       " {'name': 'Tyrion Lannister',\n",
       "  'text': 'Davos, Lord an and armada have ports rebuild repair. to to we'},\n",
       " {'name': 'Davos Seaworth',\n",
       "  'text': 'Coin Lofty Lord Master These Titles We and as as begin funding. have. of of projects provides soon the will'},\n",
       " {'name': 'Bronn',\n",
       "  'text': \"Coin Master Master Ships, The be but coin, coin. ensure first forward has he helping looks more no not of of or soon the there to to wasting we're won't\"},\n",
       " {'name': 'Davos Seaworth', 'text': '\"Any more.\"'},\n",
       " {'name': 'Bronn', 'text': 'Grammar Master You now, of too?'},\n",
       " {'name': 'Tyrion Lannister',\n",
       "  'text': 'Casterly Grandmaester, Rock a ahem, based clean healthier is it leads my my of on on population. sewers, that the theory, to water work years'},\n",
       " {'name': 'Samwell Tarly',\n",
       "  'text': 'Archmaester The and done has it on out... research some subject this turns'},\n",
       " {'name': 'Bronn', 'text': \"The and don't. live strong the weak\"},\n",
       " {'name': 'Tyrion Lannister',\n",
       "  'text': 'Find and best builders set task. the the them to'},\n",
       " {'name': 'Bronn',\n",
       "  'text': 'Coin Master Oh, The all best brothels builders, burned down. fund is of of reconstruction. speaking the to willing'},\n",
       " {'name': 'Samwell Tarly',\n",
       "  'text': 'Archmaester Uh... about brothels. effects enthusiastic is less of salutary than the the'},\n",
       " {'name': 'Bronn', 'text': \"I Well, he imagine isn't properly. them using\"},\n",
       " {'name': 'Brienne of Tarth',\n",
       "  'text': 'I agree all brothels. can over precedence ships take that think we'},\n",
       " {'name': 'Bronn', 'text': \"I a presumptuous statement. that's think very\"},\n",
       " {'name': 'Tyrion Lannister',\n",
       "  'text': 'I a a a and brothel. brought honeycomb into jackass once'},\n",
       " {'name': 'Stark Bannerman', 'text': 'North! Queen The in the'},\n",
       " {'name': 'Stark Bannermen',\n",
       "  'text': 'North! North! North! North! North! Queen Queen Queen Queen Queen The The The The The in in in in in the the the the the'}]"
      ]
     },
     "execution_count": 8,
     "metadata": {},
     "output_type": "execute_result"
    }
   ],
   "source": [
    "df.iloc[-1]['text']"
   ]
  },
  {
   "cell_type": "code",
   "execution_count": null,
   "id": "4cb293b5",
   "metadata": {},
   "outputs": [],
   "source": []
  },
  {
   "cell_type": "code",
   "execution_count": 13,
   "id": "75aaecdb",
   "metadata": {},
   "outputs": [],
   "source": [
    "dialogues = {}\n",
    "\n",
    "for index, row in df.iterrows():\n",
    "    for item in row['text']:\n",
    "        if item['name'] in dialogues:\n",
    "            dialogues[item['name']] = dialogues[item['name']]+item['text']\n",
    "        else:\n",
    "            dialogues[item['name']] = item['text'] + ' '\n",
    "               "
   ]
  },
  {
   "cell_type": "code",
   "execution_count": 15,
   "id": "d416d787",
   "metadata": {},
   "outputs": [
    {
     "data": {
      "text/plain": [
       "817"
      ]
     },
     "execution_count": 15,
     "metadata": {},
     "output_type": "execute_result"
    }
   ],
   "source": [
    "len(dialogues)"
   ]
  },
  {
   "cell_type": "code",
   "execution_count": null,
   "id": "2c5a7293",
   "metadata": {},
   "outputs": [],
   "source": [
    "#storing the name of character and his/her dialogues spoken in a new dataframe"
   ]
  },
  {
   "cell_type": "code",
   "execution_count": 18,
   "id": "16e67492",
   "metadata": {},
   "outputs": [],
   "source": [
    "new_df = pd.DataFrame()\n",
    "new_df['character'] = dialogues.keys()\n",
    "new_df['words'] = dialogues.values()\n",
    "new_df['number_of_words'] = new_df['words'].apply(lambda x: len(x.split()))"
   ]
  },
  {
   "cell_type": "code",
   "execution_count": 20,
   "id": "637f6627",
   "metadata": {},
   "outputs": [
    {
     "data": {
      "text/html": [
       "<div>\n",
       "<style scoped>\n",
       "    .dataframe tbody tr th:only-of-type {\n",
       "        vertical-align: middle;\n",
       "    }\n",
       "\n",
       "    .dataframe tbody tr th {\n",
       "        vertical-align: top;\n",
       "    }\n",
       "\n",
       "    .dataframe thead th {\n",
       "        text-align: right;\n",
       "    }\n",
       "</style>\n",
       "<table border=\"1\" class=\"dataframe\">\n",
       "  <thead>\n",
       "    <tr style=\"text-align: right;\">\n",
       "      <th></th>\n",
       "      <th>character</th>\n",
       "      <th>words</th>\n",
       "      <th>number_of_words</th>\n",
       "    </tr>\n",
       "  </thead>\n",
       "  <tbody>\n",
       "    <tr>\n",
       "      <th>623</th>\n",
       "      <td>Archmaester Ebrose</td>\n",
       "      <td>A Ah, I Maester Mankind's The Weigh Weyland. c...</td>\n",
       "      <td>845</td>\n",
       "    </tr>\n",
       "    <tr>\n",
       "      <th>496</th>\n",
       "      <td>Brant</td>\n",
       "      <td>A be bit mutton nice. of would Aren't Where ar...</td>\n",
       "      <td>57</td>\n",
       "    </tr>\n",
       "    <tr>\n",
       "      <th>577</th>\n",
       "      <td>Izembaro</td>\n",
       "      <td>Ahh! He I Oh, The a am and and big boar. by du...</td>\n",
       "      <td>249</td>\n",
       "    </tr>\n",
       "    <tr>\n",
       "      <th>104</th>\n",
       "      <td>Lannister Guard</td>\n",
       "      <td>Get little man. my of out way, Foreign bastard...</td>\n",
       "      <td>83</td>\n",
       "    </tr>\n",
       "    <tr>\n",
       "      <th>645</th>\n",
       "      <td>Lannister Soldier #15</td>\n",
       "      <td>Archers, line! the to That's it.Keep moving.St...</td>\n",
       "      <td>9</td>\n",
       "    </tr>\n",
       "  </tbody>\n",
       "</table>\n",
       "</div>"
      ],
      "text/plain": [
       "                 character                                              words  \\\n",
       "623     Archmaester Ebrose  A Ah, I Maester Mankind's The Weigh Weyland. c...   \n",
       "496                  Brant  A be bit mutton nice. of would Aren't Where ar...   \n",
       "577               Izembaro  Ahh! He I Oh, The a am and and big boar. by du...   \n",
       "104        Lannister Guard  Get little man. my of out way, Foreign bastard...   \n",
       "645  Lannister Soldier #15  Archers, line! the to That's it.Keep moving.St...   \n",
       "\n",
       "     number_of_words  \n",
       "623              845  \n",
       "496               57  \n",
       "577              249  \n",
       "104               83  \n",
       "645                9  "
      ]
     },
     "execution_count": 20,
     "metadata": {},
     "output_type": "execute_result"
    }
   ],
   "source": [
    "new_df.sample(5)"
   ]
  },
  {
   "cell_type": "code",
   "execution_count": 21,
   "id": "b757953d",
   "metadata": {},
   "outputs": [],
   "source": [
    "#arranging dataframe in descending order of number of words spoken by got character"
   ]
  },
  {
   "cell_type": "code",
   "execution_count": 22,
   "id": "20f88f2c",
   "metadata": {},
   "outputs": [],
   "source": [
    "new_df = new_df.sort_values('number_of_words',ascending=False)"
   ]
  },
  {
   "cell_type": "code",
   "execution_count": 23,
   "id": "4e49457d",
   "metadata": {},
   "outputs": [
    {
     "data": {
      "text/html": [
       "<div>\n",
       "<style scoped>\n",
       "    .dataframe tbody tr th:only-of-type {\n",
       "        vertical-align: middle;\n",
       "    }\n",
       "\n",
       "    .dataframe tbody tr th {\n",
       "        vertical-align: top;\n",
       "    }\n",
       "\n",
       "    .dataframe thead th {\n",
       "        text-align: right;\n",
       "    }\n",
       "</style>\n",
       "<table border=\"1\" class=\"dataframe\">\n",
       "  <thead>\n",
       "    <tr style=\"text-align: right;\">\n",
       "      <th></th>\n",
       "      <th>character</th>\n",
       "      <th>words</th>\n",
       "      <th>number_of_words</th>\n",
       "    </tr>\n",
       "  </thead>\n",
       "  <tbody>\n",
       "    <tr>\n",
       "      <th>17</th>\n",
       "      <td>Tyrion Lannister</td>\n",
       "      <td>It Mmh. Northern about girls. is say the they ...</td>\n",
       "      <td>25924</td>\n",
       "    </tr>\n",
       "    <tr>\n",
       "      <th>13</th>\n",
       "      <td>Cersei Lannister</td>\n",
       "      <td>And And Casterly One Rock. When about afraid. ...</td>\n",
       "      <td>14294</td>\n",
       "    </tr>\n",
       "    <tr>\n",
       "      <th>3</th>\n",
       "      <td>Jon Snow</td>\n",
       "      <td>Father's Go on. watching. And mother. yourBran...</td>\n",
       "      <td>11488</td>\n",
       "    </tr>\n",
       "    <tr>\n",
       "      <th>20</th>\n",
       "      <td>Daenerys Targaryen</td>\n",
       "      <td>We've a and anything. asked been for for guest...</td>\n",
       "      <td>11202</td>\n",
       "    </tr>\n",
       "    <tr>\n",
       "      <th>12</th>\n",
       "      <td>Jaime Lannister</td>\n",
       "      <td>As I It's brother, duty feel it's much. my sho...</td>\n",
       "      <td>10823</td>\n",
       "    </tr>\n",
       "  </tbody>\n",
       "</table>\n",
       "</div>"
      ],
      "text/plain": [
       "             character                                              words  \\\n",
       "17    Tyrion Lannister  It Mmh. Northern about girls. is say the they ...   \n",
       "13    Cersei Lannister  And And Casterly One Rock. When about afraid. ...   \n",
       "3             Jon Snow  Father's Go on. watching. And mother. yourBran...   \n",
       "20  Daenerys Targaryen  We've a and anything. asked been for for guest...   \n",
       "12     Jaime Lannister  As I It's brother, duty feel it's much. my sho...   \n",
       "\n",
       "    number_of_words  \n",
       "17            25924  \n",
       "13            14294  \n",
       "3             11488  \n",
       "20            11202  \n",
       "12            10823  "
      ]
     },
     "execution_count": 23,
     "metadata": {},
     "output_type": "execute_result"
    }
   ],
   "source": [
    "new_df.head(5)"
   ]
  },
  {
   "cell_type": "code",
   "execution_count": 24,
   "id": "45a827c6",
   "metadata": {},
   "outputs": [],
   "source": [
    "#assuming that the only main/important characters speak more words. So keeping only top 100 characters from the list."
   ]
  },
  {
   "cell_type": "code",
   "execution_count": 25,
   "id": "4147e09b",
   "metadata": {},
   "outputs": [],
   "source": [
    "new_df = new_df.head(100)"
   ]
  },
  {
   "cell_type": "code",
   "execution_count": 27,
   "id": "42710343",
   "metadata": {},
   "outputs": [
    {
     "data": {
      "text/plain": [
       "(100, 3)"
      ]
     },
     "execution_count": 27,
     "metadata": {},
     "output_type": "execute_result"
    }
   ],
   "source": [
    "new_df.shape"
   ]
  },
  {
   "cell_type": "code",
   "execution_count": 28,
   "id": "5b42dbe7",
   "metadata": {},
   "outputs": [],
   "source": [
    "from sklearn.feature_extraction.text import CountVectorizer\n",
    "cv = CountVectorizer(stop_words = 'english')"
   ]
  },
  {
   "cell_type": "code",
   "execution_count": 29,
   "id": "ed03797b",
   "metadata": {},
   "outputs": [],
   "source": [
    "embeddings = cv.fit_transform(new_df['words']).toarray()"
   ]
  },
  {
   "cell_type": "code",
   "execution_count": 30,
   "id": "9efc223a",
   "metadata": {},
   "outputs": [
    {
     "data": {
      "text/plain": [
       "(100, 15335)"
      ]
     },
     "execution_count": 30,
     "metadata": {},
     "output_type": "execute_result"
    }
   ],
   "source": [
    "embeddings.shape"
   ]
  },
  {
   "cell_type": "code",
   "execution_count": 31,
   "id": "4fcfb65f",
   "metadata": {},
   "outputs": [],
   "source": [
    "embeddings = embeddings.astype('float64')"
   ]
  },
  {
   "cell_type": "code",
   "execution_count": 32,
   "id": "feb26bb4",
   "metadata": {},
   "outputs": [],
   "source": [
    "from sklearn.manifold import TSNE"
   ]
  },
  {
   "cell_type": "code",
   "execution_count": 33,
   "id": "2fa88a8c",
   "metadata": {},
   "outputs": [
    {
     "name": "stderr",
     "output_type": "stream",
     "text": [
      "C:\\Users\\DELL\\Parul\\anaconda\\lib\\site-packages\\sklearn\\manifold\\_t_sne.py:780: FutureWarning: The default initialization in TSNE will change from 'random' to 'pca' in 1.2.\n",
      "  warnings.warn(\n",
      "C:\\Users\\DELL\\Parul\\anaconda\\lib\\site-packages\\sklearn\\manifold\\_t_sne.py:790: FutureWarning: The default learning rate in TSNE will change from 200.0 to 'auto' in 1.2.\n",
      "  warnings.warn(\n"
     ]
    },
    {
     "name": "stdout",
     "output_type": "stream",
     "text": [
      "[t-SNE] Computing 91 nearest neighbors...\n",
      "[t-SNE] Indexed 100 samples in 0.004s...\n",
      "[t-SNE] Computed neighbors for 100 samples in 0.472s...\n",
      "[t-SNE] Computed conditional probabilities for sample 100 / 100\n",
      "[t-SNE] Mean sigma: 14.377887\n",
      "[t-SNE] KL divergence after 250 iterations with early exaggeration: 58.880650\n",
      "[t-SNE] KL divergence after 850 iterations: 0.299282\n"
     ]
    }
   ],
   "source": [
    "tsne = TSNE(n_components=2,verbose=1,random_state=123)\n",
    "z = tsne.fit_transform(embeddings)"
   ]
  },
  {
   "cell_type": "code",
   "execution_count": 35,
   "id": "b758618b",
   "metadata": {},
   "outputs": [
    {
     "data": {
      "text/plain": [
       "(100, 2)"
      ]
     },
     "execution_count": 35,
     "metadata": {},
     "output_type": "execute_result"
    }
   ],
   "source": [
    "z.shape"
   ]
  },
  {
   "cell_type": "code",
   "execution_count": 36,
   "id": "d6011a3d",
   "metadata": {},
   "outputs": [],
   "source": [
    "new_df['x']=z.T[0]\n",
    "new_df['y']=z.T[1]"
   ]
  },
  {
   "cell_type": "code",
   "execution_count": 37,
   "id": "9d4fcdf0",
   "metadata": {},
   "outputs": [
    {
     "data": {
      "text/html": [
       "<div>\n",
       "<style scoped>\n",
       "    .dataframe tbody tr th:only-of-type {\n",
       "        vertical-align: middle;\n",
       "    }\n",
       "\n",
       "    .dataframe tbody tr th {\n",
       "        vertical-align: top;\n",
       "    }\n",
       "\n",
       "    .dataframe thead th {\n",
       "        text-align: right;\n",
       "    }\n",
       "</style>\n",
       "<table border=\"1\" class=\"dataframe\">\n",
       "  <thead>\n",
       "    <tr style=\"text-align: right;\">\n",
       "      <th></th>\n",
       "      <th>character</th>\n",
       "      <th>words</th>\n",
       "      <th>number_of_words</th>\n",
       "      <th>x</th>\n",
       "      <th>y</th>\n",
       "    </tr>\n",
       "  </thead>\n",
       "  <tbody>\n",
       "    <tr>\n",
       "      <th>17</th>\n",
       "      <td>Tyrion Lannister</td>\n",
       "      <td>It Mmh. Northern about girls. is say the they ...</td>\n",
       "      <td>25924</td>\n",
       "      <td>2.899715</td>\n",
       "      <td>1.710577</td>\n",
       "    </tr>\n",
       "    <tr>\n",
       "      <th>13</th>\n",
       "      <td>Cersei Lannister</td>\n",
       "      <td>And And Casterly One Rock. When about afraid. ...</td>\n",
       "      <td>14294</td>\n",
       "      <td>2.674686</td>\n",
       "      <td>1.605112</td>\n",
       "    </tr>\n",
       "    <tr>\n",
       "      <th>3</th>\n",
       "      <td>Jon Snow</td>\n",
       "      <td>Father's Go on. watching. And mother. yourBran...</td>\n",
       "      <td>11488</td>\n",
       "      <td>2.495826</td>\n",
       "      <td>1.774558</td>\n",
       "    </tr>\n",
       "    <tr>\n",
       "      <th>20</th>\n",
       "      <td>Daenerys Targaryen</td>\n",
       "      <td>We've a and anything. asked been for for guest...</td>\n",
       "      <td>11202</td>\n",
       "      <td>2.239231</td>\n",
       "      <td>1.237472</td>\n",
       "    </tr>\n",
       "    <tr>\n",
       "      <th>12</th>\n",
       "      <td>Jaime Lannister</td>\n",
       "      <td>As I It's brother, duty feel it's much. my sho...</td>\n",
       "      <td>10823</td>\n",
       "      <td>2.478583</td>\n",
       "      <td>1.629407</td>\n",
       "    </tr>\n",
       "  </tbody>\n",
       "</table>\n",
       "</div>"
      ],
      "text/plain": [
       "             character                                              words  \\\n",
       "17    Tyrion Lannister  It Mmh. Northern about girls. is say the they ...   \n",
       "13    Cersei Lannister  And And Casterly One Rock. When about afraid. ...   \n",
       "3             Jon Snow  Father's Go on. watching. And mother. yourBran...   \n",
       "20  Daenerys Targaryen  We've a and anything. asked been for for guest...   \n",
       "12     Jaime Lannister  As I It's brother, duty feel it's much. my sho...   \n",
       "\n",
       "    number_of_words         x         y  \n",
       "17            25924  2.899715  1.710577  \n",
       "13            14294  2.674686  1.605112  \n",
       "3             11488  2.495826  1.774558  \n",
       "20            11202  2.239231  1.237472  \n",
       "12            10823  2.478583  1.629407  "
      ]
     },
     "execution_count": 37,
     "metadata": {},
     "output_type": "execute_result"
    }
   ],
   "source": [
    "new_df.head(5)"
   ]
  },
  {
   "cell_type": "code",
   "execution_count": 45,
   "id": "c466f430",
   "metadata": {},
   "outputs": [
    {
     "data": {
      "text/plain": [
       "(100, 5)"
      ]
     },
     "execution_count": 45,
     "metadata": {},
     "output_type": "execute_result"
    }
   ],
   "source": [
    "new_df.shape"
   ]
  },
  {
   "cell_type": "code",
   "execution_count": 42,
   "id": "05c1d83f",
   "metadata": {},
   "outputs": [
    {
     "data": {
      "application/vnd.plotly.v1+json": {
       "config": {
        "plotlyServerURL": "https://plot.ly"
       },
       "data": [
        {
         "hovertemplate": "character=Tyrion Lannister<br>x=%{x}<br>y=%{y}<extra></extra>",
         "legendgroup": "Tyrion Lannister",
         "marker": {
          "color": "#636efa",
          "symbol": "circle"
         },
         "mode": "markers",
         "name": "Tyrion Lannister",
         "orientation": "v",
         "showlegend": true,
         "type": "scatter",
         "x": [
          2.8997151851654053
         ],
         "xaxis": "x",
         "y": [
          1.7105772495269775
         ],
         "yaxis": "y"
        },
        {
         "hovertemplate": "character=Cersei Lannister<br>x=%{x}<br>y=%{y}<extra></extra>",
         "legendgroup": "Cersei Lannister",
         "marker": {
          "color": "#EF553B",
          "symbol": "circle"
         },
         "mode": "markers",
         "name": "Cersei Lannister",
         "orientation": "v",
         "showlegend": true,
         "type": "scatter",
         "x": [
          2.6746864318847656
         ],
         "xaxis": "x",
         "y": [
          1.6051115989685059
         ],
         "yaxis": "y"
        },
        {
         "hovertemplate": "character=Jon Snow<br>x=%{x}<br>y=%{y}<extra></extra>",
         "legendgroup": "Jon Snow",
         "marker": {
          "color": "#00cc96",
          "symbol": "circle"
         },
         "mode": "markers",
         "name": "Jon Snow",
         "orientation": "v",
         "showlegend": true,
         "type": "scatter",
         "x": [
          2.495826005935669
         ],
         "xaxis": "x",
         "y": [
          1.7745579481124878
         ],
         "yaxis": "y"
        },
        {
         "hovertemplate": "character=Daenerys Targaryen<br>x=%{x}<br>y=%{y}<extra></extra>",
         "legendgroup": "Daenerys Targaryen",
         "marker": {
          "color": "#ab63fa",
          "symbol": "circle"
         },
         "mode": "markers",
         "name": "Daenerys Targaryen",
         "orientation": "v",
         "showlegend": true,
         "type": "scatter",
         "x": [
          2.2392311096191406
         ],
         "xaxis": "x",
         "y": [
          1.2374720573425293
         ],
         "yaxis": "y"
        },
        {
         "hovertemplate": "character=Jaime Lannister<br>x=%{x}<br>y=%{y}<extra></extra>",
         "legendgroup": "Jaime Lannister",
         "marker": {
          "color": "#FFA15A",
          "symbol": "circle"
         },
         "mode": "markers",
         "name": "Jaime Lannister",
         "orientation": "v",
         "showlegend": true,
         "type": "scatter",
         "x": [
          2.4785830974578857
         ],
         "xaxis": "x",
         "y": [
          1.6294071674346924
         ],
         "yaxis": "y"
        },
        {
         "hovertemplate": "character=Sansa Stark<br>x=%{x}<br>y=%{y}<extra></extra>",
         "legendgroup": "Sansa Stark",
         "marker": {
          "color": "#19d3f3",
          "symbol": "circle"
         },
         "mode": "markers",
         "name": "Sansa Stark",
         "orientation": "v",
         "showlegend": true,
         "type": "scatter",
         "x": [
          2.1662447452545166
         ],
         "xaxis": "x",
         "y": [
          1.5072077512741089
         ],
         "yaxis": "y"
        },
        {
         "hovertemplate": "character=Petyr Baelish<br>x=%{x}<br>y=%{y}<extra></extra>",
         "legendgroup": "Petyr Baelish",
         "marker": {
          "color": "#FF6692",
          "symbol": "circle"
         },
         "mode": "markers",
         "name": "Petyr Baelish",
         "orientation": "v",
         "showlegend": true,
         "type": "scatter",
         "x": [
          1.9824060201644897
         ],
         "xaxis": "x",
         "y": [
          0.8897823691368103
         ],
         "yaxis": "y"
        },
        {
         "hovertemplate": "character=Lord Varys<br>x=%{x}<br>y=%{y}<extra></extra>",
         "legendgroup": "Lord Varys",
         "marker": {
          "color": "#B6E880",
          "symbol": "circle"
         },
         "mode": "markers",
         "name": "Lord Varys",
         "orientation": "v",
         "showlegend": true,
         "type": "scatter",
         "x": [
          1.8671311140060425
         ],
         "xaxis": "x",
         "y": [
          0.783848762512207
         ],
         "yaxis": "y"
        },
        {
         "hovertemplate": "character=Davos Seaworth<br>x=%{x}<br>y=%{y}<extra></extra>",
         "legendgroup": "Davos Seaworth",
         "marker": {
          "color": "#FF97FF",
          "symbol": "circle"
         },
         "mode": "markers",
         "name": "Davos Seaworth",
         "orientation": "v",
         "showlegend": true,
         "type": "scatter",
         "x": [
          1.5884214639663696
         ],
         "xaxis": "x",
         "y": [
          0.9307862520217896
         ],
         "yaxis": "y"
        },
        {
         "hovertemplate": "character=Samwell Tarly<br>x=%{x}<br>y=%{y}<extra></extra>",
         "legendgroup": "Samwell Tarly",
         "marker": {
          "color": "#FECB52",
          "symbol": "circle"
         },
         "mode": "markers",
         "name": "Samwell Tarly",
         "orientation": "v",
         "showlegend": true,
         "type": "scatter",
         "x": [
          1.094720721244812
         ],
         "xaxis": "x",
         "y": [
          1.998827576637268
         ],
         "yaxis": "y"
        },
        {
         "hovertemplate": "character=Arya Stark<br>x=%{x}<br>y=%{y}<extra></extra>",
         "legendgroup": "Arya Stark",
         "marker": {
          "color": "#636efa",
          "symbol": "circle"
         },
         "mode": "markers",
         "name": "Arya Stark",
         "orientation": "v",
         "showlegend": true,
         "type": "scatter",
         "x": [
          1.5722066164016724
         ],
         "xaxis": "x",
         "y": [
          2.0679776668548584
         ],
         "yaxis": "y"
        },
        {
         "hovertemplate": "character=Tywin Lannister<br>x=%{x}<br>y=%{y}<extra></extra>",
         "legendgroup": "Tywin Lannister",
         "marker": {
          "color": "#EF553B",
          "symbol": "circle"
         },
         "mode": "markers",
         "name": "Tywin Lannister",
         "orientation": "v",
         "showlegend": true,
         "type": "scatter",
         "x": [
          1.02214515209198
         ],
         "xaxis": "x",
         "y": [
          0.22611230611801147
         ],
         "yaxis": "y"
        },
        {
         "hovertemplate": "character=Theon Greyjoy<br>x=%{x}<br>y=%{y}<extra></extra>",
         "legendgroup": "Theon Greyjoy",
         "marker": {
          "color": "#00cc96",
          "symbol": "circle"
         },
         "mode": "markers",
         "name": "Theon Greyjoy",
         "orientation": "v",
         "showlegend": true,
         "type": "scatter",
         "x": [
          1.2661867141723633
         ],
         "xaxis": "x",
         "y": [
          1.5208646059036255
         ],
         "yaxis": "y"
        },
        {
         "hovertemplate": "character=Jorah Mormont<br>x=%{x}<br>y=%{y}<extra></extra>",
         "legendgroup": "Jorah Mormont",
         "marker": {
          "color": "#ab63fa",
          "symbol": "circle"
         },
         "mode": "markers",
         "name": "Jorah Mormont",
         "orientation": "v",
         "showlegend": true,
         "type": "scatter",
         "x": [
          0.35848110914230347
         ],
         "xaxis": "x",
         "y": [
          1.2209720611572266
         ],
         "yaxis": "y"
        },
        {
         "hovertemplate": "character=Bronn<br>x=%{x}<br>y=%{y}<extra></extra>",
         "legendgroup": "Bronn",
         "marker": {
          "color": "#FFA15A",
          "symbol": "circle"
         },
         "mode": "markers",
         "name": "Bronn",
         "orientation": "v",
         "showlegend": true,
         "type": "scatter",
         "x": [
          0.7078185081481934
         ],
         "xaxis": "x",
         "y": [
          2.622997283935547
         ],
         "yaxis": "y"
        },
        {
         "hovertemplate": "character=Olenna Tyrell<br>x=%{x}<br>y=%{y}<extra></extra>",
         "legendgroup": "Olenna Tyrell",
         "marker": {
          "color": "#19d3f3",
          "symbol": "circle"
         },
         "mode": "markers",
         "name": "Olenna Tyrell",
         "orientation": "v",
         "showlegend": true,
         "type": "scatter",
         "x": [
          -0.5540035963058472
         ],
         "xaxis": "x",
         "y": [
          0.6536950469017029
         ],
         "yaxis": "y"
        },
        {
         "hovertemplate": "character=Brienne of Tarth<br>x=%{x}<br>y=%{y}<extra></extra>",
         "legendgroup": "Brienne of Tarth",
         "marker": {
          "color": "#FF6692",
          "symbol": "circle"
         },
         "mode": "markers",
         "name": "Brienne of Tarth",
         "orientation": "v",
         "showlegend": true,
         "type": "scatter",
         "x": [
          0.4419632852077484
         ],
         "xaxis": "x",
         "y": [
          -0.2709083557128906
         ],
         "yaxis": "y"
        },
        {
         "hovertemplate": "character=Sandor Clegane<br>x=%{x}<br>y=%{y}<extra></extra>",
         "legendgroup": "Sandor Clegane",
         "marker": {
          "color": "#B6E880",
          "symbol": "circle"
         },
         "mode": "markers",
         "name": "Sandor Clegane",
         "orientation": "v",
         "showlegend": true,
         "type": "scatter",
         "x": [
          0.6377266645431519
         ],
         "xaxis": "x",
         "y": [
          2.6552534103393555
         ],
         "yaxis": "y"
        },
        {
         "hovertemplate": "character=Robb Stark<br>x=%{x}<br>y=%{y}<extra></extra>",
         "legendgroup": "Robb Stark",
         "marker": {
          "color": "#FF97FF",
          "symbol": "circle"
         },
         "mode": "markers",
         "name": "Robb Stark",
         "orientation": "v",
         "showlegend": true,
         "type": "scatter",
         "x": [
          1.005445957183838
         ],
         "xaxis": "x",
         "y": [
          1.0532281398773193
         ],
         "yaxis": "y"
        },
        {
         "hovertemplate": "character=Stannis Baratheon<br>x=%{x}<br>y=%{y}<extra></extra>",
         "legendgroup": "Stannis Baratheon",
         "marker": {
          "color": "#FECB52",
          "symbol": "circle"
         },
         "mode": "markers",
         "name": "Stannis Baratheon",
         "orientation": "v",
         "showlegend": true,
         "type": "scatter",
         "x": [
          0.7246239185333252
         ],
         "xaxis": "x",
         "y": [
          0.8547083735466003
         ],
         "yaxis": "y"
        },
        {
         "hovertemplate": "character=Margaery Tyrell<br>x=%{x}<br>y=%{y}<extra></extra>",
         "legendgroup": "Margaery Tyrell",
         "marker": {
          "color": "#636efa",
          "symbol": "circle"
         },
         "mode": "markers",
         "name": "Margaery Tyrell",
         "orientation": "v",
         "showlegend": true,
         "type": "scatter",
         "x": [
          -0.5162231922149658
         ],
         "xaxis": "x",
         "y": [
          -0.14525720477104187
         ],
         "yaxis": "y"
        },
        {
         "hovertemplate": "character=Catelyn Stark<br>x=%{x}<br>y=%{y}<extra></extra>",
         "legendgroup": "Catelyn Stark",
         "marker": {
          "color": "#EF553B",
          "symbol": "circle"
         },
         "mode": "markers",
         "name": "Catelyn Stark",
         "orientation": "v",
         "showlegend": true,
         "type": "scatter",
         "x": [
          0.7214933037757874
         ],
         "xaxis": "x",
         "y": [
          0.7424430847167969
         ],
         "yaxis": "y"
        },
        {
         "hovertemplate": "character=Eddard Stark<br>x=%{x}<br>y=%{y}<extra></extra>",
         "legendgroup": "Eddard Stark",
         "marker": {
          "color": "#00cc96",
          "symbol": "circle"
         },
         "mode": "markers",
         "name": "Eddard Stark",
         "orientation": "v",
         "showlegend": true,
         "type": "scatter",
         "x": [
          0.6333701610565186
         ],
         "xaxis": "x",
         "y": [
          0.5384226441383362
         ],
         "yaxis": "y"
        },
        {
         "hovertemplate": "character=Ramsay Snow<br>x=%{x}<br>y=%{y}<extra></extra>",
         "legendgroup": "Ramsay Snow",
         "marker": {
          "color": "#ab63fa",
          "symbol": "circle"
         },
         "mode": "markers",
         "name": "Ramsay Snow",
         "orientation": "v",
         "showlegend": true,
         "type": "scatter",
         "x": [
          -0.2151280790567398
         ],
         "xaxis": "x",
         "y": [
          1.5288207530975342
         ],
         "yaxis": "y"
        },
        {
         "hovertemplate": "character=Melisandre<br>x=%{x}<br>y=%{y}<extra></extra>",
         "legendgroup": "Melisandre",
         "marker": {
          "color": "#FFA15A",
          "symbol": "circle"
         },
         "mode": "markers",
         "name": "Melisandre",
         "orientation": "v",
         "showlegend": true,
         "type": "scatter",
         "x": [
          -2.103428602218628
         ],
         "xaxis": "x",
         "y": [
          -1.267907977104187
         ],
         "yaxis": "y"
        },
        {
         "hovertemplate": "character=Joffrey Baratheon<br>x=%{x}<br>y=%{y}<extra></extra>",
         "legendgroup": "Joffrey Baratheon",
         "marker": {
          "color": "#19d3f3",
          "symbol": "circle"
         },
         "mode": "markers",
         "name": "Joffrey Baratheon",
         "orientation": "v",
         "showlegend": true,
         "type": "scatter",
         "x": [
          0.16064849495887756
         ],
         "xaxis": "x",
         "y": [
          -0.25233888626098633
         ],
         "yaxis": "y"
        },
        {
         "hovertemplate": "character=Bran Stark<br>x=%{x}<br>y=%{y}<extra></extra>",
         "legendgroup": "Bran Stark",
         "marker": {
          "color": "#FF6692",
          "symbol": "circle"
         },
         "mode": "markers",
         "name": "Bran Stark",
         "orientation": "v",
         "showlegend": true,
         "type": "scatter",
         "x": [
          0.012989149428904057
         ],
         "xaxis": "x",
         "y": [
          2.130258083343506
         ],
         "yaxis": "y"
        },
        {
         "hovertemplate": "character=High Sparrow<br>x=%{x}<br>y=%{y}<extra></extra>",
         "legendgroup": "High Sparrow",
         "marker": {
          "color": "#B6E880",
          "symbol": "circle"
         },
         "mode": "markers",
         "name": "High Sparrow",
         "orientation": "v",
         "showlegend": true,
         "type": "scatter",
         "x": [
          -1.1690008640289307
         ],
         "xaxis": "x",
         "y": [
          -1.067240834236145
         ],
         "yaxis": "y"
        },
        {
         "hovertemplate": "character=Robert Baratheon<br>x=%{x}<br>y=%{y}<extra></extra>",
         "legendgroup": "Robert Baratheon",
         "marker": {
          "color": "#FF97FF",
          "symbol": "circle"
         },
         "mode": "markers",
         "name": "Robert Baratheon",
         "orientation": "v",
         "showlegend": true,
         "type": "scatter",
         "x": [
          0.2226565182209015
         ],
         "xaxis": "x",
         "y": [
          0.5040444135665894
         ],
         "yaxis": "y"
        },
        {
         "hovertemplate": "character=Daario Naharis<br>x=%{x}<br>y=%{y}<extra></extra>",
         "legendgroup": "Daario Naharis",
         "marker": {
          "color": "#FECB52",
          "symbol": "circle"
         },
         "mode": "markers",
         "name": "Daario Naharis",
         "orientation": "v",
         "showlegend": true,
         "type": "scatter",
         "x": [
          -3.181487798690796
         ],
         "xaxis": "x",
         "y": [
          3.4903392791748047
         ],
         "yaxis": "y"
        },
        {
         "hovertemplate": "character=Tormund Giantsbane<br>x=%{x}<br>y=%{y}<extra></extra>",
         "legendgroup": "Tormund Giantsbane",
         "marker": {
          "color": "#636efa",
          "symbol": "circle"
         },
         "mode": "markers",
         "name": "Tormund Giantsbane",
         "orientation": "v",
         "showlegend": true,
         "type": "scatter",
         "x": [
          -0.5235168933868408
         ],
         "xaxis": "x",
         "y": [
          2.37984299659729
         ],
         "yaxis": "y"
        },
        {
         "hovertemplate": "character=Ygritte<br>x=%{x}<br>y=%{y}<extra></extra>",
         "legendgroup": "Ygritte",
         "marker": {
          "color": "#EF553B",
          "symbol": "circle"
         },
         "mode": "markers",
         "name": "Ygritte",
         "orientation": "v",
         "showlegend": true,
         "type": "scatter",
         "x": [
          -0.8648774027824402
         ],
         "xaxis": "x",
         "y": [
          2.5555882453918457
         ],
         "yaxis": "y"
        },
        {
         "hovertemplate": "character=Roose Bolton<br>x=%{x}<br>y=%{y}<extra></extra>",
         "legendgroup": "Roose Bolton",
         "marker": {
          "color": "#00cc96",
          "symbol": "circle"
         },
         "mode": "markers",
         "name": "Roose Bolton",
         "orientation": "v",
         "showlegend": true,
         "type": "scatter",
         "x": [
          -4.78955602645874
         ],
         "xaxis": "x",
         "y": [
          3.001842737197876
         ],
         "yaxis": "y"
        },
        {
         "hovertemplate": "character=Grand Maester Pycelle<br>x=%{x}<br>y=%{y}<extra></extra>",
         "legendgroup": "Grand Maester Pycelle",
         "marker": {
          "color": "#ab63fa",
          "symbol": "circle"
         },
         "mode": "markers",
         "name": "Grand Maester Pycelle",
         "orientation": "v",
         "showlegend": true,
         "type": "scatter",
         "x": [
          -5.560081481933594
         ],
         "xaxis": "x",
         "y": [
          -0.09634126722812653
         ],
         "yaxis": "y"
        },
        {
         "hovertemplate": "character=Oberyn Martell<br>x=%{x}<br>y=%{y}<extra></extra>",
         "legendgroup": "Oberyn Martell",
         "marker": {
          "color": "#FFA15A",
          "symbol": "circle"
         },
         "mode": "markers",
         "name": "Oberyn Martell",
         "orientation": "v",
         "showlegend": true,
         "type": "scatter",
         "x": [
          -2.7212865352630615
         ],
         "xaxis": "x",
         "y": [
          2.9765453338623047
         ],
         "yaxis": "y"
        },
        {
         "hovertemplate": "character=Alliser Thorne<br>x=%{x}<br>y=%{y}<extra></extra>",
         "legendgroup": "Alliser Thorne",
         "marker": {
          "color": "#19d3f3",
          "symbol": "circle"
         },
         "mode": "markers",
         "name": "Alliser Thorne",
         "orientation": "v",
         "showlegend": true,
         "type": "scatter",
         "x": [
          -3.437518358230591
         ],
         "xaxis": "x",
         "y": [
          -1.1406915187835693
         ],
         "yaxis": "y"
        },
        {
         "hovertemplate": "character=Missandei<br>x=%{x}<br>y=%{y}<extra></extra>",
         "legendgroup": "Missandei",
         "marker": {
          "color": "#FF6692",
          "symbol": "circle"
         },
         "mode": "markers",
         "name": "Missandei",
         "orientation": "v",
         "showlegend": true,
         "type": "scatter",
         "x": [
          -5.533645153045654
         ],
         "xaxis": "x",
         "y": [
          2.385629892349243
         ],
         "yaxis": "y"
        },
        {
         "hovertemplate": "character=Gendry<br>x=%{x}<br>y=%{y}<extra></extra>",
         "legendgroup": "Gendry",
         "marker": {
          "color": "#B6E880",
          "symbol": "circle"
         },
         "mode": "markers",
         "name": "Gendry",
         "orientation": "v",
         "showlegend": true,
         "type": "scatter",
         "x": [
          -0.4770597815513611
         ],
         "xaxis": "x",
         "y": [
          0.9998100996017456
         ],
         "yaxis": "y"
        },
        {
         "hovertemplate": "character=Yara Greyjoy<br>x=%{x}<br>y=%{y}<extra></extra>",
         "legendgroup": "Yara Greyjoy",
         "marker": {
          "color": "#FF97FF",
          "symbol": "circle"
         },
         "mode": "markers",
         "name": "Yara Greyjoy",
         "orientation": "v",
         "showlegend": true,
         "type": "scatter",
         "x": [
          -1.3609755039215088
         ],
         "xaxis": "x",
         "y": [
          2.8480660915374756
         ],
         "yaxis": "y"
        },
        {
         "hovertemplate": "character=Osha<br>x=%{x}<br>y=%{y}<extra></extra>",
         "legendgroup": "Osha",
         "marker": {
          "color": "#FECB52",
          "symbol": "circle"
         },
         "mode": "markers",
         "name": "Osha",
         "orientation": "v",
         "showlegend": true,
         "type": "scatter",
         "x": [
          -0.9012743830680847
         ],
         "xaxis": "x",
         "y": [
          1.586402177810669
         ],
         "yaxis": "y"
        }
       ],
       "layout": {
        "legend": {
         "title": {
          "text": "character"
         },
         "tracegroupgap": 0
        },
        "margin": {
         "t": 60
        },
        "template": {
         "data": {
          "bar": [
           {
            "error_x": {
             "color": "#2a3f5f"
            },
            "error_y": {
             "color": "#2a3f5f"
            },
            "marker": {
             "line": {
              "color": "#E5ECF6",
              "width": 0.5
             },
             "pattern": {
              "fillmode": "overlay",
              "size": 10,
              "solidity": 0.2
             }
            },
            "type": "bar"
           }
          ],
          "barpolar": [
           {
            "marker": {
             "line": {
              "color": "#E5ECF6",
              "width": 0.5
             },
             "pattern": {
              "fillmode": "overlay",
              "size": 10,
              "solidity": 0.2
             }
            },
            "type": "barpolar"
           }
          ],
          "carpet": [
           {
            "aaxis": {
             "endlinecolor": "#2a3f5f",
             "gridcolor": "white",
             "linecolor": "white",
             "minorgridcolor": "white",
             "startlinecolor": "#2a3f5f"
            },
            "baxis": {
             "endlinecolor": "#2a3f5f",
             "gridcolor": "white",
             "linecolor": "white",
             "minorgridcolor": "white",
             "startlinecolor": "#2a3f5f"
            },
            "type": "carpet"
           }
          ],
          "choropleth": [
           {
            "colorbar": {
             "outlinewidth": 0,
             "ticks": ""
            },
            "type": "choropleth"
           }
          ],
          "contour": [
           {
            "colorbar": {
             "outlinewidth": 0,
             "ticks": ""
            },
            "colorscale": [
             [
              0,
              "#0d0887"
             ],
             [
              0.1111111111111111,
              "#46039f"
             ],
             [
              0.2222222222222222,
              "#7201a8"
             ],
             [
              0.3333333333333333,
              "#9c179e"
             ],
             [
              0.4444444444444444,
              "#bd3786"
             ],
             [
              0.5555555555555556,
              "#d8576b"
             ],
             [
              0.6666666666666666,
              "#ed7953"
             ],
             [
              0.7777777777777778,
              "#fb9f3a"
             ],
             [
              0.8888888888888888,
              "#fdca26"
             ],
             [
              1,
              "#f0f921"
             ]
            ],
            "type": "contour"
           }
          ],
          "contourcarpet": [
           {
            "colorbar": {
             "outlinewidth": 0,
             "ticks": ""
            },
            "type": "contourcarpet"
           }
          ],
          "heatmap": [
           {
            "colorbar": {
             "outlinewidth": 0,
             "ticks": ""
            },
            "colorscale": [
             [
              0,
              "#0d0887"
             ],
             [
              0.1111111111111111,
              "#46039f"
             ],
             [
              0.2222222222222222,
              "#7201a8"
             ],
             [
              0.3333333333333333,
              "#9c179e"
             ],
             [
              0.4444444444444444,
              "#bd3786"
             ],
             [
              0.5555555555555556,
              "#d8576b"
             ],
             [
              0.6666666666666666,
              "#ed7953"
             ],
             [
              0.7777777777777778,
              "#fb9f3a"
             ],
             [
              0.8888888888888888,
              "#fdca26"
             ],
             [
              1,
              "#f0f921"
             ]
            ],
            "type": "heatmap"
           }
          ],
          "heatmapgl": [
           {
            "colorbar": {
             "outlinewidth": 0,
             "ticks": ""
            },
            "colorscale": [
             [
              0,
              "#0d0887"
             ],
             [
              0.1111111111111111,
              "#46039f"
             ],
             [
              0.2222222222222222,
              "#7201a8"
             ],
             [
              0.3333333333333333,
              "#9c179e"
             ],
             [
              0.4444444444444444,
              "#bd3786"
             ],
             [
              0.5555555555555556,
              "#d8576b"
             ],
             [
              0.6666666666666666,
              "#ed7953"
             ],
             [
              0.7777777777777778,
              "#fb9f3a"
             ],
             [
              0.8888888888888888,
              "#fdca26"
             ],
             [
              1,
              "#f0f921"
             ]
            ],
            "type": "heatmapgl"
           }
          ],
          "histogram": [
           {
            "marker": {
             "pattern": {
              "fillmode": "overlay",
              "size": 10,
              "solidity": 0.2
             }
            },
            "type": "histogram"
           }
          ],
          "histogram2d": [
           {
            "colorbar": {
             "outlinewidth": 0,
             "ticks": ""
            },
            "colorscale": [
             [
              0,
              "#0d0887"
             ],
             [
              0.1111111111111111,
              "#46039f"
             ],
             [
              0.2222222222222222,
              "#7201a8"
             ],
             [
              0.3333333333333333,
              "#9c179e"
             ],
             [
              0.4444444444444444,
              "#bd3786"
             ],
             [
              0.5555555555555556,
              "#d8576b"
             ],
             [
              0.6666666666666666,
              "#ed7953"
             ],
             [
              0.7777777777777778,
              "#fb9f3a"
             ],
             [
              0.8888888888888888,
              "#fdca26"
             ],
             [
              1,
              "#f0f921"
             ]
            ],
            "type": "histogram2d"
           }
          ],
          "histogram2dcontour": [
           {
            "colorbar": {
             "outlinewidth": 0,
             "ticks": ""
            },
            "colorscale": [
             [
              0,
              "#0d0887"
             ],
             [
              0.1111111111111111,
              "#46039f"
             ],
             [
              0.2222222222222222,
              "#7201a8"
             ],
             [
              0.3333333333333333,
              "#9c179e"
             ],
             [
              0.4444444444444444,
              "#bd3786"
             ],
             [
              0.5555555555555556,
              "#d8576b"
             ],
             [
              0.6666666666666666,
              "#ed7953"
             ],
             [
              0.7777777777777778,
              "#fb9f3a"
             ],
             [
              0.8888888888888888,
              "#fdca26"
             ],
             [
              1,
              "#f0f921"
             ]
            ],
            "type": "histogram2dcontour"
           }
          ],
          "mesh3d": [
           {
            "colorbar": {
             "outlinewidth": 0,
             "ticks": ""
            },
            "type": "mesh3d"
           }
          ],
          "parcoords": [
           {
            "line": {
             "colorbar": {
              "outlinewidth": 0,
              "ticks": ""
             }
            },
            "type": "parcoords"
           }
          ],
          "pie": [
           {
            "automargin": true,
            "type": "pie"
           }
          ],
          "scatter": [
           {
            "marker": {
             "colorbar": {
              "outlinewidth": 0,
              "ticks": ""
             }
            },
            "type": "scatter"
           }
          ],
          "scatter3d": [
           {
            "line": {
             "colorbar": {
              "outlinewidth": 0,
              "ticks": ""
             }
            },
            "marker": {
             "colorbar": {
              "outlinewidth": 0,
              "ticks": ""
             }
            },
            "type": "scatter3d"
           }
          ],
          "scattercarpet": [
           {
            "marker": {
             "colorbar": {
              "outlinewidth": 0,
              "ticks": ""
             }
            },
            "type": "scattercarpet"
           }
          ],
          "scattergeo": [
           {
            "marker": {
             "colorbar": {
              "outlinewidth": 0,
              "ticks": ""
             }
            },
            "type": "scattergeo"
           }
          ],
          "scattergl": [
           {
            "marker": {
             "colorbar": {
              "outlinewidth": 0,
              "ticks": ""
             }
            },
            "type": "scattergl"
           }
          ],
          "scattermapbox": [
           {
            "marker": {
             "colorbar": {
              "outlinewidth": 0,
              "ticks": ""
             }
            },
            "type": "scattermapbox"
           }
          ],
          "scatterpolar": [
           {
            "marker": {
             "colorbar": {
              "outlinewidth": 0,
              "ticks": ""
             }
            },
            "type": "scatterpolar"
           }
          ],
          "scatterpolargl": [
           {
            "marker": {
             "colorbar": {
              "outlinewidth": 0,
              "ticks": ""
             }
            },
            "type": "scatterpolargl"
           }
          ],
          "scatterternary": [
           {
            "marker": {
             "colorbar": {
              "outlinewidth": 0,
              "ticks": ""
             }
            },
            "type": "scatterternary"
           }
          ],
          "surface": [
           {
            "colorbar": {
             "outlinewidth": 0,
             "ticks": ""
            },
            "colorscale": [
             [
              0,
              "#0d0887"
             ],
             [
              0.1111111111111111,
              "#46039f"
             ],
             [
              0.2222222222222222,
              "#7201a8"
             ],
             [
              0.3333333333333333,
              "#9c179e"
             ],
             [
              0.4444444444444444,
              "#bd3786"
             ],
             [
              0.5555555555555556,
              "#d8576b"
             ],
             [
              0.6666666666666666,
              "#ed7953"
             ],
             [
              0.7777777777777778,
              "#fb9f3a"
             ],
             [
              0.8888888888888888,
              "#fdca26"
             ],
             [
              1,
              "#f0f921"
             ]
            ],
            "type": "surface"
           }
          ],
          "table": [
           {
            "cells": {
             "fill": {
              "color": "#EBF0F8"
             },
             "line": {
              "color": "white"
             }
            },
            "header": {
             "fill": {
              "color": "#C8D4E3"
             },
             "line": {
              "color": "white"
             }
            },
            "type": "table"
           }
          ]
         },
         "layout": {
          "annotationdefaults": {
           "arrowcolor": "#2a3f5f",
           "arrowhead": 0,
           "arrowwidth": 1
          },
          "autotypenumbers": "strict",
          "coloraxis": {
           "colorbar": {
            "outlinewidth": 0,
            "ticks": ""
           }
          },
          "colorscale": {
           "diverging": [
            [
             0,
             "#8e0152"
            ],
            [
             0.1,
             "#c51b7d"
            ],
            [
             0.2,
             "#de77ae"
            ],
            [
             0.3,
             "#f1b6da"
            ],
            [
             0.4,
             "#fde0ef"
            ],
            [
             0.5,
             "#f7f7f7"
            ],
            [
             0.6,
             "#e6f5d0"
            ],
            [
             0.7,
             "#b8e186"
            ],
            [
             0.8,
             "#7fbc41"
            ],
            [
             0.9,
             "#4d9221"
            ],
            [
             1,
             "#276419"
            ]
           ],
           "sequential": [
            [
             0,
             "#0d0887"
            ],
            [
             0.1111111111111111,
             "#46039f"
            ],
            [
             0.2222222222222222,
             "#7201a8"
            ],
            [
             0.3333333333333333,
             "#9c179e"
            ],
            [
             0.4444444444444444,
             "#bd3786"
            ],
            [
             0.5555555555555556,
             "#d8576b"
            ],
            [
             0.6666666666666666,
             "#ed7953"
            ],
            [
             0.7777777777777778,
             "#fb9f3a"
            ],
            [
             0.8888888888888888,
             "#fdca26"
            ],
            [
             1,
             "#f0f921"
            ]
           ],
           "sequentialminus": [
            [
             0,
             "#0d0887"
            ],
            [
             0.1111111111111111,
             "#46039f"
            ],
            [
             0.2222222222222222,
             "#7201a8"
            ],
            [
             0.3333333333333333,
             "#9c179e"
            ],
            [
             0.4444444444444444,
             "#bd3786"
            ],
            [
             0.5555555555555556,
             "#d8576b"
            ],
            [
             0.6666666666666666,
             "#ed7953"
            ],
            [
             0.7777777777777778,
             "#fb9f3a"
            ],
            [
             0.8888888888888888,
             "#fdca26"
            ],
            [
             1,
             "#f0f921"
            ]
           ]
          },
          "colorway": [
           "#636efa",
           "#EF553B",
           "#00cc96",
           "#ab63fa",
           "#FFA15A",
           "#19d3f3",
           "#FF6692",
           "#B6E880",
           "#FF97FF",
           "#FECB52"
          ],
          "font": {
           "color": "#2a3f5f"
          },
          "geo": {
           "bgcolor": "white",
           "lakecolor": "white",
           "landcolor": "#E5ECF6",
           "showlakes": true,
           "showland": true,
           "subunitcolor": "white"
          },
          "hoverlabel": {
           "align": "left"
          },
          "hovermode": "closest",
          "mapbox": {
           "style": "light"
          },
          "paper_bgcolor": "white",
          "plot_bgcolor": "#E5ECF6",
          "polar": {
           "angularaxis": {
            "gridcolor": "white",
            "linecolor": "white",
            "ticks": ""
           },
           "bgcolor": "#E5ECF6",
           "radialaxis": {
            "gridcolor": "white",
            "linecolor": "white",
            "ticks": ""
           }
          },
          "scene": {
           "xaxis": {
            "backgroundcolor": "#E5ECF6",
            "gridcolor": "white",
            "gridwidth": 2,
            "linecolor": "white",
            "showbackground": true,
            "ticks": "",
            "zerolinecolor": "white"
           },
           "yaxis": {
            "backgroundcolor": "#E5ECF6",
            "gridcolor": "white",
            "gridwidth": 2,
            "linecolor": "white",
            "showbackground": true,
            "ticks": "",
            "zerolinecolor": "white"
           },
           "zaxis": {
            "backgroundcolor": "#E5ECF6",
            "gridcolor": "white",
            "gridwidth": 2,
            "linecolor": "white",
            "showbackground": true,
            "ticks": "",
            "zerolinecolor": "white"
           }
          },
          "shapedefaults": {
           "line": {
            "color": "#2a3f5f"
           }
          },
          "ternary": {
           "aaxis": {
            "gridcolor": "white",
            "linecolor": "white",
            "ticks": ""
           },
           "baxis": {
            "gridcolor": "white",
            "linecolor": "white",
            "ticks": ""
           },
           "bgcolor": "#E5ECF6",
           "caxis": {
            "gridcolor": "white",
            "linecolor": "white",
            "ticks": ""
           }
          },
          "title": {
           "x": 0.05
          },
          "xaxis": {
           "automargin": true,
           "gridcolor": "white",
           "linecolor": "white",
           "ticks": "",
           "title": {
            "standoff": 15
           },
           "zerolinecolor": "white",
           "zerolinewidth": 2
          },
          "yaxis": {
           "automargin": true,
           "gridcolor": "white",
           "linecolor": "white",
           "ticks": "",
           "title": {
            "standoff": 15
           },
           "zerolinecolor": "white",
           "zerolinewidth": 2
          }
         }
        },
        "xaxis": {
         "anchor": "y",
         "domain": [
          0,
          1
         ],
         "title": {
          "text": "x"
         }
        },
        "yaxis": {
         "anchor": "x",
         "domain": [
          0,
          1
         ],
         "title": {
          "text": "y"
         }
        }
       }
      },
      "text/html": [
       "<div>                            <div id=\"c04ee212-7c86-4683-8bc2-9807bb7fc6af\" class=\"plotly-graph-div\" style=\"height:525px; width:100%;\"></div>            <script type=\"text/javascript\">                require([\"plotly\"], function(Plotly) {                    window.PLOTLYENV=window.PLOTLYENV || {};                                    if (document.getElementById(\"c04ee212-7c86-4683-8bc2-9807bb7fc6af\")) {                    Plotly.newPlot(                        \"c04ee212-7c86-4683-8bc2-9807bb7fc6af\",                        [{\"hovertemplate\":\"character=Tyrion Lannister<br>x=%{x}<br>y=%{y}<extra></extra>\",\"legendgroup\":\"Tyrion Lannister\",\"marker\":{\"color\":\"#636efa\",\"symbol\":\"circle\"},\"mode\":\"markers\",\"name\":\"Tyrion Lannister\",\"orientation\":\"v\",\"showlegend\":true,\"x\":[2.8997151851654053],\"xaxis\":\"x\",\"y\":[1.7105772495269775],\"yaxis\":\"y\",\"type\":\"scatter\"},{\"hovertemplate\":\"character=Cersei Lannister<br>x=%{x}<br>y=%{y}<extra></extra>\",\"legendgroup\":\"Cersei Lannister\",\"marker\":{\"color\":\"#EF553B\",\"symbol\":\"circle\"},\"mode\":\"markers\",\"name\":\"Cersei Lannister\",\"orientation\":\"v\",\"showlegend\":true,\"x\":[2.6746864318847656],\"xaxis\":\"x\",\"y\":[1.6051115989685059],\"yaxis\":\"y\",\"type\":\"scatter\"},{\"hovertemplate\":\"character=Jon Snow<br>x=%{x}<br>y=%{y}<extra></extra>\",\"legendgroup\":\"Jon Snow\",\"marker\":{\"color\":\"#00cc96\",\"symbol\":\"circle\"},\"mode\":\"markers\",\"name\":\"Jon Snow\",\"orientation\":\"v\",\"showlegend\":true,\"x\":[2.495826005935669],\"xaxis\":\"x\",\"y\":[1.7745579481124878],\"yaxis\":\"y\",\"type\":\"scatter\"},{\"hovertemplate\":\"character=Daenerys Targaryen<br>x=%{x}<br>y=%{y}<extra></extra>\",\"legendgroup\":\"Daenerys Targaryen\",\"marker\":{\"color\":\"#ab63fa\",\"symbol\":\"circle\"},\"mode\":\"markers\",\"name\":\"Daenerys Targaryen\",\"orientation\":\"v\",\"showlegend\":true,\"x\":[2.2392311096191406],\"xaxis\":\"x\",\"y\":[1.2374720573425293],\"yaxis\":\"y\",\"type\":\"scatter\"},{\"hovertemplate\":\"character=Jaime Lannister<br>x=%{x}<br>y=%{y}<extra></extra>\",\"legendgroup\":\"Jaime Lannister\",\"marker\":{\"color\":\"#FFA15A\",\"symbol\":\"circle\"},\"mode\":\"markers\",\"name\":\"Jaime Lannister\",\"orientation\":\"v\",\"showlegend\":true,\"x\":[2.4785830974578857],\"xaxis\":\"x\",\"y\":[1.6294071674346924],\"yaxis\":\"y\",\"type\":\"scatter\"},{\"hovertemplate\":\"character=Sansa Stark<br>x=%{x}<br>y=%{y}<extra></extra>\",\"legendgroup\":\"Sansa Stark\",\"marker\":{\"color\":\"#19d3f3\",\"symbol\":\"circle\"},\"mode\":\"markers\",\"name\":\"Sansa Stark\",\"orientation\":\"v\",\"showlegend\":true,\"x\":[2.1662447452545166],\"xaxis\":\"x\",\"y\":[1.5072077512741089],\"yaxis\":\"y\",\"type\":\"scatter\"},{\"hovertemplate\":\"character=Petyr Baelish<br>x=%{x}<br>y=%{y}<extra></extra>\",\"legendgroup\":\"Petyr Baelish\",\"marker\":{\"color\":\"#FF6692\",\"symbol\":\"circle\"},\"mode\":\"markers\",\"name\":\"Petyr Baelish\",\"orientation\":\"v\",\"showlegend\":true,\"x\":[1.9824060201644897],\"xaxis\":\"x\",\"y\":[0.8897823691368103],\"yaxis\":\"y\",\"type\":\"scatter\"},{\"hovertemplate\":\"character=Lord Varys<br>x=%{x}<br>y=%{y}<extra></extra>\",\"legendgroup\":\"Lord Varys\",\"marker\":{\"color\":\"#B6E880\",\"symbol\":\"circle\"},\"mode\":\"markers\",\"name\":\"Lord Varys\",\"orientation\":\"v\",\"showlegend\":true,\"x\":[1.8671311140060425],\"xaxis\":\"x\",\"y\":[0.783848762512207],\"yaxis\":\"y\",\"type\":\"scatter\"},{\"hovertemplate\":\"character=Davos Seaworth<br>x=%{x}<br>y=%{y}<extra></extra>\",\"legendgroup\":\"Davos Seaworth\",\"marker\":{\"color\":\"#FF97FF\",\"symbol\":\"circle\"},\"mode\":\"markers\",\"name\":\"Davos Seaworth\",\"orientation\":\"v\",\"showlegend\":true,\"x\":[1.5884214639663696],\"xaxis\":\"x\",\"y\":[0.9307862520217896],\"yaxis\":\"y\",\"type\":\"scatter\"},{\"hovertemplate\":\"character=Samwell Tarly<br>x=%{x}<br>y=%{y}<extra></extra>\",\"legendgroup\":\"Samwell Tarly\",\"marker\":{\"color\":\"#FECB52\",\"symbol\":\"circle\"},\"mode\":\"markers\",\"name\":\"Samwell Tarly\",\"orientation\":\"v\",\"showlegend\":true,\"x\":[1.094720721244812],\"xaxis\":\"x\",\"y\":[1.998827576637268],\"yaxis\":\"y\",\"type\":\"scatter\"},{\"hovertemplate\":\"character=Arya Stark<br>x=%{x}<br>y=%{y}<extra></extra>\",\"legendgroup\":\"Arya Stark\",\"marker\":{\"color\":\"#636efa\",\"symbol\":\"circle\"},\"mode\":\"markers\",\"name\":\"Arya Stark\",\"orientation\":\"v\",\"showlegend\":true,\"x\":[1.5722066164016724],\"xaxis\":\"x\",\"y\":[2.0679776668548584],\"yaxis\":\"y\",\"type\":\"scatter\"},{\"hovertemplate\":\"character=Tywin Lannister<br>x=%{x}<br>y=%{y}<extra></extra>\",\"legendgroup\":\"Tywin Lannister\",\"marker\":{\"color\":\"#EF553B\",\"symbol\":\"circle\"},\"mode\":\"markers\",\"name\":\"Tywin Lannister\",\"orientation\":\"v\",\"showlegend\":true,\"x\":[1.02214515209198],\"xaxis\":\"x\",\"y\":[0.22611230611801147],\"yaxis\":\"y\",\"type\":\"scatter\"},{\"hovertemplate\":\"character=Theon Greyjoy<br>x=%{x}<br>y=%{y}<extra></extra>\",\"legendgroup\":\"Theon Greyjoy\",\"marker\":{\"color\":\"#00cc96\",\"symbol\":\"circle\"},\"mode\":\"markers\",\"name\":\"Theon Greyjoy\",\"orientation\":\"v\",\"showlegend\":true,\"x\":[1.2661867141723633],\"xaxis\":\"x\",\"y\":[1.5208646059036255],\"yaxis\":\"y\",\"type\":\"scatter\"},{\"hovertemplate\":\"character=Jorah Mormont<br>x=%{x}<br>y=%{y}<extra></extra>\",\"legendgroup\":\"Jorah Mormont\",\"marker\":{\"color\":\"#ab63fa\",\"symbol\":\"circle\"},\"mode\":\"markers\",\"name\":\"Jorah Mormont\",\"orientation\":\"v\",\"showlegend\":true,\"x\":[0.35848110914230347],\"xaxis\":\"x\",\"y\":[1.2209720611572266],\"yaxis\":\"y\",\"type\":\"scatter\"},{\"hovertemplate\":\"character=Bronn<br>x=%{x}<br>y=%{y}<extra></extra>\",\"legendgroup\":\"Bronn\",\"marker\":{\"color\":\"#FFA15A\",\"symbol\":\"circle\"},\"mode\":\"markers\",\"name\":\"Bronn\",\"orientation\":\"v\",\"showlegend\":true,\"x\":[0.7078185081481934],\"xaxis\":\"x\",\"y\":[2.622997283935547],\"yaxis\":\"y\",\"type\":\"scatter\"},{\"hovertemplate\":\"character=Olenna Tyrell<br>x=%{x}<br>y=%{y}<extra></extra>\",\"legendgroup\":\"Olenna Tyrell\",\"marker\":{\"color\":\"#19d3f3\",\"symbol\":\"circle\"},\"mode\":\"markers\",\"name\":\"Olenna Tyrell\",\"orientation\":\"v\",\"showlegend\":true,\"x\":[-0.5540035963058472],\"xaxis\":\"x\",\"y\":[0.6536950469017029],\"yaxis\":\"y\",\"type\":\"scatter\"},{\"hovertemplate\":\"character=Brienne of Tarth<br>x=%{x}<br>y=%{y}<extra></extra>\",\"legendgroup\":\"Brienne of Tarth\",\"marker\":{\"color\":\"#FF6692\",\"symbol\":\"circle\"},\"mode\":\"markers\",\"name\":\"Brienne of Tarth\",\"orientation\":\"v\",\"showlegend\":true,\"x\":[0.4419632852077484],\"xaxis\":\"x\",\"y\":[-0.2709083557128906],\"yaxis\":\"y\",\"type\":\"scatter\"},{\"hovertemplate\":\"character=Sandor Clegane<br>x=%{x}<br>y=%{y}<extra></extra>\",\"legendgroup\":\"Sandor Clegane\",\"marker\":{\"color\":\"#B6E880\",\"symbol\":\"circle\"},\"mode\":\"markers\",\"name\":\"Sandor Clegane\",\"orientation\":\"v\",\"showlegend\":true,\"x\":[0.6377266645431519],\"xaxis\":\"x\",\"y\":[2.6552534103393555],\"yaxis\":\"y\",\"type\":\"scatter\"},{\"hovertemplate\":\"character=Robb Stark<br>x=%{x}<br>y=%{y}<extra></extra>\",\"legendgroup\":\"Robb Stark\",\"marker\":{\"color\":\"#FF97FF\",\"symbol\":\"circle\"},\"mode\":\"markers\",\"name\":\"Robb Stark\",\"orientation\":\"v\",\"showlegend\":true,\"x\":[1.005445957183838],\"xaxis\":\"x\",\"y\":[1.0532281398773193],\"yaxis\":\"y\",\"type\":\"scatter\"},{\"hovertemplate\":\"character=Stannis Baratheon<br>x=%{x}<br>y=%{y}<extra></extra>\",\"legendgroup\":\"Stannis Baratheon\",\"marker\":{\"color\":\"#FECB52\",\"symbol\":\"circle\"},\"mode\":\"markers\",\"name\":\"Stannis Baratheon\",\"orientation\":\"v\",\"showlegend\":true,\"x\":[0.7246239185333252],\"xaxis\":\"x\",\"y\":[0.8547083735466003],\"yaxis\":\"y\",\"type\":\"scatter\"},{\"hovertemplate\":\"character=Margaery Tyrell<br>x=%{x}<br>y=%{y}<extra></extra>\",\"legendgroup\":\"Margaery Tyrell\",\"marker\":{\"color\":\"#636efa\",\"symbol\":\"circle\"},\"mode\":\"markers\",\"name\":\"Margaery Tyrell\",\"orientation\":\"v\",\"showlegend\":true,\"x\":[-0.5162231922149658],\"xaxis\":\"x\",\"y\":[-0.14525720477104187],\"yaxis\":\"y\",\"type\":\"scatter\"},{\"hovertemplate\":\"character=Catelyn Stark<br>x=%{x}<br>y=%{y}<extra></extra>\",\"legendgroup\":\"Catelyn Stark\",\"marker\":{\"color\":\"#EF553B\",\"symbol\":\"circle\"},\"mode\":\"markers\",\"name\":\"Catelyn Stark\",\"orientation\":\"v\",\"showlegend\":true,\"x\":[0.7214933037757874],\"xaxis\":\"x\",\"y\":[0.7424430847167969],\"yaxis\":\"y\",\"type\":\"scatter\"},{\"hovertemplate\":\"character=Eddard Stark<br>x=%{x}<br>y=%{y}<extra></extra>\",\"legendgroup\":\"Eddard Stark\",\"marker\":{\"color\":\"#00cc96\",\"symbol\":\"circle\"},\"mode\":\"markers\",\"name\":\"Eddard Stark\",\"orientation\":\"v\",\"showlegend\":true,\"x\":[0.6333701610565186],\"xaxis\":\"x\",\"y\":[0.5384226441383362],\"yaxis\":\"y\",\"type\":\"scatter\"},{\"hovertemplate\":\"character=Ramsay Snow<br>x=%{x}<br>y=%{y}<extra></extra>\",\"legendgroup\":\"Ramsay Snow\",\"marker\":{\"color\":\"#ab63fa\",\"symbol\":\"circle\"},\"mode\":\"markers\",\"name\":\"Ramsay Snow\",\"orientation\":\"v\",\"showlegend\":true,\"x\":[-0.2151280790567398],\"xaxis\":\"x\",\"y\":[1.5288207530975342],\"yaxis\":\"y\",\"type\":\"scatter\"},{\"hovertemplate\":\"character=Melisandre<br>x=%{x}<br>y=%{y}<extra></extra>\",\"legendgroup\":\"Melisandre\",\"marker\":{\"color\":\"#FFA15A\",\"symbol\":\"circle\"},\"mode\":\"markers\",\"name\":\"Melisandre\",\"orientation\":\"v\",\"showlegend\":true,\"x\":[-2.103428602218628],\"xaxis\":\"x\",\"y\":[-1.267907977104187],\"yaxis\":\"y\",\"type\":\"scatter\"},{\"hovertemplate\":\"character=Joffrey Baratheon<br>x=%{x}<br>y=%{y}<extra></extra>\",\"legendgroup\":\"Joffrey Baratheon\",\"marker\":{\"color\":\"#19d3f3\",\"symbol\":\"circle\"},\"mode\":\"markers\",\"name\":\"Joffrey Baratheon\",\"orientation\":\"v\",\"showlegend\":true,\"x\":[0.16064849495887756],\"xaxis\":\"x\",\"y\":[-0.25233888626098633],\"yaxis\":\"y\",\"type\":\"scatter\"},{\"hovertemplate\":\"character=Bran Stark<br>x=%{x}<br>y=%{y}<extra></extra>\",\"legendgroup\":\"Bran Stark\",\"marker\":{\"color\":\"#FF6692\",\"symbol\":\"circle\"},\"mode\":\"markers\",\"name\":\"Bran Stark\",\"orientation\":\"v\",\"showlegend\":true,\"x\":[0.012989149428904057],\"xaxis\":\"x\",\"y\":[2.130258083343506],\"yaxis\":\"y\",\"type\":\"scatter\"},{\"hovertemplate\":\"character=High Sparrow<br>x=%{x}<br>y=%{y}<extra></extra>\",\"legendgroup\":\"High Sparrow\",\"marker\":{\"color\":\"#B6E880\",\"symbol\":\"circle\"},\"mode\":\"markers\",\"name\":\"High Sparrow\",\"orientation\":\"v\",\"showlegend\":true,\"x\":[-1.1690008640289307],\"xaxis\":\"x\",\"y\":[-1.067240834236145],\"yaxis\":\"y\",\"type\":\"scatter\"},{\"hovertemplate\":\"character=Robert Baratheon<br>x=%{x}<br>y=%{y}<extra></extra>\",\"legendgroup\":\"Robert Baratheon\",\"marker\":{\"color\":\"#FF97FF\",\"symbol\":\"circle\"},\"mode\":\"markers\",\"name\":\"Robert Baratheon\",\"orientation\":\"v\",\"showlegend\":true,\"x\":[0.2226565182209015],\"xaxis\":\"x\",\"y\":[0.5040444135665894],\"yaxis\":\"y\",\"type\":\"scatter\"},{\"hovertemplate\":\"character=Daario Naharis<br>x=%{x}<br>y=%{y}<extra></extra>\",\"legendgroup\":\"Daario Naharis\",\"marker\":{\"color\":\"#FECB52\",\"symbol\":\"circle\"},\"mode\":\"markers\",\"name\":\"Daario Naharis\",\"orientation\":\"v\",\"showlegend\":true,\"x\":[-3.181487798690796],\"xaxis\":\"x\",\"y\":[3.4903392791748047],\"yaxis\":\"y\",\"type\":\"scatter\"},{\"hovertemplate\":\"character=Tormund Giantsbane<br>x=%{x}<br>y=%{y}<extra></extra>\",\"legendgroup\":\"Tormund Giantsbane\",\"marker\":{\"color\":\"#636efa\",\"symbol\":\"circle\"},\"mode\":\"markers\",\"name\":\"Tormund Giantsbane\",\"orientation\":\"v\",\"showlegend\":true,\"x\":[-0.5235168933868408],\"xaxis\":\"x\",\"y\":[2.37984299659729],\"yaxis\":\"y\",\"type\":\"scatter\"},{\"hovertemplate\":\"character=Ygritte<br>x=%{x}<br>y=%{y}<extra></extra>\",\"legendgroup\":\"Ygritte\",\"marker\":{\"color\":\"#EF553B\",\"symbol\":\"circle\"},\"mode\":\"markers\",\"name\":\"Ygritte\",\"orientation\":\"v\",\"showlegend\":true,\"x\":[-0.8648774027824402],\"xaxis\":\"x\",\"y\":[2.5555882453918457],\"yaxis\":\"y\",\"type\":\"scatter\"},{\"hovertemplate\":\"character=Roose Bolton<br>x=%{x}<br>y=%{y}<extra></extra>\",\"legendgroup\":\"Roose Bolton\",\"marker\":{\"color\":\"#00cc96\",\"symbol\":\"circle\"},\"mode\":\"markers\",\"name\":\"Roose Bolton\",\"orientation\":\"v\",\"showlegend\":true,\"x\":[-4.78955602645874],\"xaxis\":\"x\",\"y\":[3.001842737197876],\"yaxis\":\"y\",\"type\":\"scatter\"},{\"hovertemplate\":\"character=Grand Maester Pycelle<br>x=%{x}<br>y=%{y}<extra></extra>\",\"legendgroup\":\"Grand Maester Pycelle\",\"marker\":{\"color\":\"#ab63fa\",\"symbol\":\"circle\"},\"mode\":\"markers\",\"name\":\"Grand Maester Pycelle\",\"orientation\":\"v\",\"showlegend\":true,\"x\":[-5.560081481933594],\"xaxis\":\"x\",\"y\":[-0.09634126722812653],\"yaxis\":\"y\",\"type\":\"scatter\"},{\"hovertemplate\":\"character=Oberyn Martell<br>x=%{x}<br>y=%{y}<extra></extra>\",\"legendgroup\":\"Oberyn Martell\",\"marker\":{\"color\":\"#FFA15A\",\"symbol\":\"circle\"},\"mode\":\"markers\",\"name\":\"Oberyn Martell\",\"orientation\":\"v\",\"showlegend\":true,\"x\":[-2.7212865352630615],\"xaxis\":\"x\",\"y\":[2.9765453338623047],\"yaxis\":\"y\",\"type\":\"scatter\"},{\"hovertemplate\":\"character=Alliser Thorne<br>x=%{x}<br>y=%{y}<extra></extra>\",\"legendgroup\":\"Alliser Thorne\",\"marker\":{\"color\":\"#19d3f3\",\"symbol\":\"circle\"},\"mode\":\"markers\",\"name\":\"Alliser Thorne\",\"orientation\":\"v\",\"showlegend\":true,\"x\":[-3.437518358230591],\"xaxis\":\"x\",\"y\":[-1.1406915187835693],\"yaxis\":\"y\",\"type\":\"scatter\"},{\"hovertemplate\":\"character=Missandei<br>x=%{x}<br>y=%{y}<extra></extra>\",\"legendgroup\":\"Missandei\",\"marker\":{\"color\":\"#FF6692\",\"symbol\":\"circle\"},\"mode\":\"markers\",\"name\":\"Missandei\",\"orientation\":\"v\",\"showlegend\":true,\"x\":[-5.533645153045654],\"xaxis\":\"x\",\"y\":[2.385629892349243],\"yaxis\":\"y\",\"type\":\"scatter\"},{\"hovertemplate\":\"character=Gendry<br>x=%{x}<br>y=%{y}<extra></extra>\",\"legendgroup\":\"Gendry\",\"marker\":{\"color\":\"#B6E880\",\"symbol\":\"circle\"},\"mode\":\"markers\",\"name\":\"Gendry\",\"orientation\":\"v\",\"showlegend\":true,\"x\":[-0.4770597815513611],\"xaxis\":\"x\",\"y\":[0.9998100996017456],\"yaxis\":\"y\",\"type\":\"scatter\"},{\"hovertemplate\":\"character=Yara Greyjoy<br>x=%{x}<br>y=%{y}<extra></extra>\",\"legendgroup\":\"Yara Greyjoy\",\"marker\":{\"color\":\"#FF97FF\",\"symbol\":\"circle\"},\"mode\":\"markers\",\"name\":\"Yara Greyjoy\",\"orientation\":\"v\",\"showlegend\":true,\"x\":[-1.3609755039215088],\"xaxis\":\"x\",\"y\":[2.8480660915374756],\"yaxis\":\"y\",\"type\":\"scatter\"},{\"hovertemplate\":\"character=Osha<br>x=%{x}<br>y=%{y}<extra></extra>\",\"legendgroup\":\"Osha\",\"marker\":{\"color\":\"#FECB52\",\"symbol\":\"circle\"},\"mode\":\"markers\",\"name\":\"Osha\",\"orientation\":\"v\",\"showlegend\":true,\"x\":[-0.9012743830680847],\"xaxis\":\"x\",\"y\":[1.586402177810669],\"yaxis\":\"y\",\"type\":\"scatter\"}],                        {\"template\":{\"data\":{\"bar\":[{\"error_x\":{\"color\":\"#2a3f5f\"},\"error_y\":{\"color\":\"#2a3f5f\"},\"marker\":{\"line\":{\"color\":\"#E5ECF6\",\"width\":0.5},\"pattern\":{\"fillmode\":\"overlay\",\"size\":10,\"solidity\":0.2}},\"type\":\"bar\"}],\"barpolar\":[{\"marker\":{\"line\":{\"color\":\"#E5ECF6\",\"width\":0.5},\"pattern\":{\"fillmode\":\"overlay\",\"size\":10,\"solidity\":0.2}},\"type\":\"barpolar\"}],\"carpet\":[{\"aaxis\":{\"endlinecolor\":\"#2a3f5f\",\"gridcolor\":\"white\",\"linecolor\":\"white\",\"minorgridcolor\":\"white\",\"startlinecolor\":\"#2a3f5f\"},\"baxis\":{\"endlinecolor\":\"#2a3f5f\",\"gridcolor\":\"white\",\"linecolor\":\"white\",\"minorgridcolor\":\"white\",\"startlinecolor\":\"#2a3f5f\"},\"type\":\"carpet\"}],\"choropleth\":[{\"colorbar\":{\"outlinewidth\":0,\"ticks\":\"\"},\"type\":\"choropleth\"}],\"contour\":[{\"colorbar\":{\"outlinewidth\":0,\"ticks\":\"\"},\"colorscale\":[[0.0,\"#0d0887\"],[0.1111111111111111,\"#46039f\"],[0.2222222222222222,\"#7201a8\"],[0.3333333333333333,\"#9c179e\"],[0.4444444444444444,\"#bd3786\"],[0.5555555555555556,\"#d8576b\"],[0.6666666666666666,\"#ed7953\"],[0.7777777777777778,\"#fb9f3a\"],[0.8888888888888888,\"#fdca26\"],[1.0,\"#f0f921\"]],\"type\":\"contour\"}],\"contourcarpet\":[{\"colorbar\":{\"outlinewidth\":0,\"ticks\":\"\"},\"type\":\"contourcarpet\"}],\"heatmap\":[{\"colorbar\":{\"outlinewidth\":0,\"ticks\":\"\"},\"colorscale\":[[0.0,\"#0d0887\"],[0.1111111111111111,\"#46039f\"],[0.2222222222222222,\"#7201a8\"],[0.3333333333333333,\"#9c179e\"],[0.4444444444444444,\"#bd3786\"],[0.5555555555555556,\"#d8576b\"],[0.6666666666666666,\"#ed7953\"],[0.7777777777777778,\"#fb9f3a\"],[0.8888888888888888,\"#fdca26\"],[1.0,\"#f0f921\"]],\"type\":\"heatmap\"}],\"heatmapgl\":[{\"colorbar\":{\"outlinewidth\":0,\"ticks\":\"\"},\"colorscale\":[[0.0,\"#0d0887\"],[0.1111111111111111,\"#46039f\"],[0.2222222222222222,\"#7201a8\"],[0.3333333333333333,\"#9c179e\"],[0.4444444444444444,\"#bd3786\"],[0.5555555555555556,\"#d8576b\"],[0.6666666666666666,\"#ed7953\"],[0.7777777777777778,\"#fb9f3a\"],[0.8888888888888888,\"#fdca26\"],[1.0,\"#f0f921\"]],\"type\":\"heatmapgl\"}],\"histogram\":[{\"marker\":{\"pattern\":{\"fillmode\":\"overlay\",\"size\":10,\"solidity\":0.2}},\"type\":\"histogram\"}],\"histogram2d\":[{\"colorbar\":{\"outlinewidth\":0,\"ticks\":\"\"},\"colorscale\":[[0.0,\"#0d0887\"],[0.1111111111111111,\"#46039f\"],[0.2222222222222222,\"#7201a8\"],[0.3333333333333333,\"#9c179e\"],[0.4444444444444444,\"#bd3786\"],[0.5555555555555556,\"#d8576b\"],[0.6666666666666666,\"#ed7953\"],[0.7777777777777778,\"#fb9f3a\"],[0.8888888888888888,\"#fdca26\"],[1.0,\"#f0f921\"]],\"type\":\"histogram2d\"}],\"histogram2dcontour\":[{\"colorbar\":{\"outlinewidth\":0,\"ticks\":\"\"},\"colorscale\":[[0.0,\"#0d0887\"],[0.1111111111111111,\"#46039f\"],[0.2222222222222222,\"#7201a8\"],[0.3333333333333333,\"#9c179e\"],[0.4444444444444444,\"#bd3786\"],[0.5555555555555556,\"#d8576b\"],[0.6666666666666666,\"#ed7953\"],[0.7777777777777778,\"#fb9f3a\"],[0.8888888888888888,\"#fdca26\"],[1.0,\"#f0f921\"]],\"type\":\"histogram2dcontour\"}],\"mesh3d\":[{\"colorbar\":{\"outlinewidth\":0,\"ticks\":\"\"},\"type\":\"mesh3d\"}],\"parcoords\":[{\"line\":{\"colorbar\":{\"outlinewidth\":0,\"ticks\":\"\"}},\"type\":\"parcoords\"}],\"pie\":[{\"automargin\":true,\"type\":\"pie\"}],\"scatter\":[{\"marker\":{\"colorbar\":{\"outlinewidth\":0,\"ticks\":\"\"}},\"type\":\"scatter\"}],\"scatter3d\":[{\"line\":{\"colorbar\":{\"outlinewidth\":0,\"ticks\":\"\"}},\"marker\":{\"colorbar\":{\"outlinewidth\":0,\"ticks\":\"\"}},\"type\":\"scatter3d\"}],\"scattercarpet\":[{\"marker\":{\"colorbar\":{\"outlinewidth\":0,\"ticks\":\"\"}},\"type\":\"scattercarpet\"}],\"scattergeo\":[{\"marker\":{\"colorbar\":{\"outlinewidth\":0,\"ticks\":\"\"}},\"type\":\"scattergeo\"}],\"scattergl\":[{\"marker\":{\"colorbar\":{\"outlinewidth\":0,\"ticks\":\"\"}},\"type\":\"scattergl\"}],\"scattermapbox\":[{\"marker\":{\"colorbar\":{\"outlinewidth\":0,\"ticks\":\"\"}},\"type\":\"scattermapbox\"}],\"scatterpolar\":[{\"marker\":{\"colorbar\":{\"outlinewidth\":0,\"ticks\":\"\"}},\"type\":\"scatterpolar\"}],\"scatterpolargl\":[{\"marker\":{\"colorbar\":{\"outlinewidth\":0,\"ticks\":\"\"}},\"type\":\"scatterpolargl\"}],\"scatterternary\":[{\"marker\":{\"colorbar\":{\"outlinewidth\":0,\"ticks\":\"\"}},\"type\":\"scatterternary\"}],\"surface\":[{\"colorbar\":{\"outlinewidth\":0,\"ticks\":\"\"},\"colorscale\":[[0.0,\"#0d0887\"],[0.1111111111111111,\"#46039f\"],[0.2222222222222222,\"#7201a8\"],[0.3333333333333333,\"#9c179e\"],[0.4444444444444444,\"#bd3786\"],[0.5555555555555556,\"#d8576b\"],[0.6666666666666666,\"#ed7953\"],[0.7777777777777778,\"#fb9f3a\"],[0.8888888888888888,\"#fdca26\"],[1.0,\"#f0f921\"]],\"type\":\"surface\"}],\"table\":[{\"cells\":{\"fill\":{\"color\":\"#EBF0F8\"},\"line\":{\"color\":\"white\"}},\"header\":{\"fill\":{\"color\":\"#C8D4E3\"},\"line\":{\"color\":\"white\"}},\"type\":\"table\"}]},\"layout\":{\"annotationdefaults\":{\"arrowcolor\":\"#2a3f5f\",\"arrowhead\":0,\"arrowwidth\":1},\"autotypenumbers\":\"strict\",\"coloraxis\":{\"colorbar\":{\"outlinewidth\":0,\"ticks\":\"\"}},\"colorscale\":{\"diverging\":[[0,\"#8e0152\"],[0.1,\"#c51b7d\"],[0.2,\"#de77ae\"],[0.3,\"#f1b6da\"],[0.4,\"#fde0ef\"],[0.5,\"#f7f7f7\"],[0.6,\"#e6f5d0\"],[0.7,\"#b8e186\"],[0.8,\"#7fbc41\"],[0.9,\"#4d9221\"],[1,\"#276419\"]],\"sequential\":[[0.0,\"#0d0887\"],[0.1111111111111111,\"#46039f\"],[0.2222222222222222,\"#7201a8\"],[0.3333333333333333,\"#9c179e\"],[0.4444444444444444,\"#bd3786\"],[0.5555555555555556,\"#d8576b\"],[0.6666666666666666,\"#ed7953\"],[0.7777777777777778,\"#fb9f3a\"],[0.8888888888888888,\"#fdca26\"],[1.0,\"#f0f921\"]],\"sequentialminus\":[[0.0,\"#0d0887\"],[0.1111111111111111,\"#46039f\"],[0.2222222222222222,\"#7201a8\"],[0.3333333333333333,\"#9c179e\"],[0.4444444444444444,\"#bd3786\"],[0.5555555555555556,\"#d8576b\"],[0.6666666666666666,\"#ed7953\"],[0.7777777777777778,\"#fb9f3a\"],[0.8888888888888888,\"#fdca26\"],[1.0,\"#f0f921\"]]},\"colorway\":[\"#636efa\",\"#EF553B\",\"#00cc96\",\"#ab63fa\",\"#FFA15A\",\"#19d3f3\",\"#FF6692\",\"#B6E880\",\"#FF97FF\",\"#FECB52\"],\"font\":{\"color\":\"#2a3f5f\"},\"geo\":{\"bgcolor\":\"white\",\"lakecolor\":\"white\",\"landcolor\":\"#E5ECF6\",\"showlakes\":true,\"showland\":true,\"subunitcolor\":\"white\"},\"hoverlabel\":{\"align\":\"left\"},\"hovermode\":\"closest\",\"mapbox\":{\"style\":\"light\"},\"paper_bgcolor\":\"white\",\"plot_bgcolor\":\"#E5ECF6\",\"polar\":{\"angularaxis\":{\"gridcolor\":\"white\",\"linecolor\":\"white\",\"ticks\":\"\"},\"bgcolor\":\"#E5ECF6\",\"radialaxis\":{\"gridcolor\":\"white\",\"linecolor\":\"white\",\"ticks\":\"\"}},\"scene\":{\"xaxis\":{\"backgroundcolor\":\"#E5ECF6\",\"gridcolor\":\"white\",\"gridwidth\":2,\"linecolor\":\"white\",\"showbackground\":true,\"ticks\":\"\",\"zerolinecolor\":\"white\"},\"yaxis\":{\"backgroundcolor\":\"#E5ECF6\",\"gridcolor\":\"white\",\"gridwidth\":2,\"linecolor\":\"white\",\"showbackground\":true,\"ticks\":\"\",\"zerolinecolor\":\"white\"},\"zaxis\":{\"backgroundcolor\":\"#E5ECF6\",\"gridcolor\":\"white\",\"gridwidth\":2,\"linecolor\":\"white\",\"showbackground\":true,\"ticks\":\"\",\"zerolinecolor\":\"white\"}},\"shapedefaults\":{\"line\":{\"color\":\"#2a3f5f\"}},\"ternary\":{\"aaxis\":{\"gridcolor\":\"white\",\"linecolor\":\"white\",\"ticks\":\"\"},\"baxis\":{\"gridcolor\":\"white\",\"linecolor\":\"white\",\"ticks\":\"\"},\"bgcolor\":\"#E5ECF6\",\"caxis\":{\"gridcolor\":\"white\",\"linecolor\":\"white\",\"ticks\":\"\"}},\"title\":{\"x\":0.05},\"xaxis\":{\"automargin\":true,\"gridcolor\":\"white\",\"linecolor\":\"white\",\"ticks\":\"\",\"title\":{\"standoff\":15},\"zerolinecolor\":\"white\",\"zerolinewidth\":2},\"yaxis\":{\"automargin\":true,\"gridcolor\":\"white\",\"linecolor\":\"white\",\"ticks\":\"\",\"title\":{\"standoff\":15},\"zerolinecolor\":\"white\",\"zerolinewidth\":2}}},\"xaxis\":{\"anchor\":\"y\",\"domain\":[0.0,1.0],\"title\":{\"text\":\"x\"}},\"yaxis\":{\"anchor\":\"x\",\"domain\":[0.0,1.0],\"title\":{\"text\":\"y\"}},\"legend\":{\"title\":{\"text\":\"character\"},\"tracegroupgap\":0},\"margin\":{\"t\":60}},                        {\"responsive\": true}                    ).then(function(){\n",
       "                            \n",
       "var gd = document.getElementById('c04ee212-7c86-4683-8bc2-9807bb7fc6af');\n",
       "var x = new MutationObserver(function (mutations, observer) {{\n",
       "        var display = window.getComputedStyle(gd).display;\n",
       "        if (!display || display === 'none') {{\n",
       "            console.log([gd, 'removed!']);\n",
       "            Plotly.purge(gd);\n",
       "            observer.disconnect();\n",
       "        }}\n",
       "}});\n",
       "\n",
       "// Listen for the removal of the full notebook cells\n",
       "var notebookContainer = gd.closest('#notebook-container');\n",
       "if (notebookContainer) {{\n",
       "    x.observe(notebookContainer, {childList: true});\n",
       "}}\n",
       "\n",
       "// Listen for the clearing of the current output cell\n",
       "var outputEl = gd.closest('.output');\n",
       "if (outputEl) {{\n",
       "    x.observe(outputEl, {childList: true});\n",
       "}}\n",
       "\n",
       "                        })                };                });            </script>        </div>"
      ]
     },
     "metadata": {},
     "output_type": "display_data"
    }
   ],
   "source": [
    "import plotly.express as px\n",
    "fig = px.scatter(new_df.head(40), x=\"x\", y=\"y\", color=\"character\")\n",
    "fig.show()"
   ]
  },
  {
   "cell_type": "code",
   "execution_count": 40,
   "id": "3543fabe",
   "metadata": {},
   "outputs": [],
   "source": [
    "import pickle"
   ]
  },
  {
   "cell_type": "code",
   "execution_count": 44,
   "id": "7f0769f8",
   "metadata": {},
   "outputs": [],
   "source": [
    "pickle.dump(new_df,open('data.pkl','wb'))"
   ]
  },
  {
   "cell_type": "code",
   "execution_count": null,
   "id": "188ce0f3",
   "metadata": {},
   "outputs": [],
   "source": []
  }
 ],
 "metadata": {
  "kernelspec": {
   "display_name": "Python 3 (ipykernel)",
   "language": "python",
   "name": "python3"
  },
  "language_info": {
   "codemirror_mode": {
    "name": "ipython",
    "version": 3
   },
   "file_extension": ".py",
   "mimetype": "text/x-python",
   "name": "python",
   "nbconvert_exporter": "python",
   "pygments_lexer": "ipython3",
   "version": "3.9.12"
  }
 },
 "nbformat": 4,
 "nbformat_minor": 5
}
